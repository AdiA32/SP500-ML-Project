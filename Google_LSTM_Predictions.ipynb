{
 "cells": [
  {
   "cell_type": "code",
   "execution_count": 171,
   "id": "06edda68",
   "metadata": {},
   "outputs": [],
   "source": [
    "import pandas as pd\n",
    "import yfinance as yh\n",
    "import datetime as dt\n",
    "import sklearn \n",
    "import matplotlib.pyplot as plt\n",
    "from sklearn.preprocessing import MinMaxScaler\n",
    "import numpy as np"
   ]
  },
  {
   "cell_type": "code",
   "execution_count": 172,
   "id": "bf77e681",
   "metadata": {},
   "outputs": [
    {
     "data": {
      "text/html": [
       "<div>\n",
       "<style scoped>\n",
       "    .dataframe tbody tr th:only-of-type {\n",
       "        vertical-align: middle;\n",
       "    }\n",
       "\n",
       "    .dataframe tbody tr th {\n",
       "        vertical-align: top;\n",
       "    }\n",
       "\n",
       "    .dataframe thead th {\n",
       "        text-align: right;\n",
       "    }\n",
       "</style>\n",
       "<table border=\"1\" class=\"dataframe\">\n",
       "  <thead>\n",
       "    <tr style=\"text-align: right;\">\n",
       "      <th></th>\n",
       "      <th>Open</th>\n",
       "      <th>High</th>\n",
       "      <th>Low</th>\n",
       "      <th>Close</th>\n",
       "      <th>Volume</th>\n",
       "    </tr>\n",
       "    <tr>\n",
       "      <th>Date</th>\n",
       "      <th></th>\n",
       "      <th></th>\n",
       "      <th></th>\n",
       "      <th></th>\n",
       "      <th></th>\n",
       "    </tr>\n",
       "  </thead>\n",
       "  <tbody>\n",
       "    <tr>\n",
       "      <th>2019-03-01 00:00:00-05:00</th>\n",
       "      <td>56.549999</td>\n",
       "      <td>57.500000</td>\n",
       "      <td>56.549999</td>\n",
       "      <td>57.425999</td>\n",
       "      <td>34086000</td>\n",
       "    </tr>\n",
       "    <tr>\n",
       "      <th>2019-03-04 00:00:00-05:00</th>\n",
       "      <td>57.728001</td>\n",
       "      <td>58.276001</td>\n",
       "      <td>56.912498</td>\n",
       "      <td>57.671001</td>\n",
       "      <td>35490000</td>\n",
       "    </tr>\n",
       "    <tr>\n",
       "      <th>2019-03-05 00:00:00-05:00</th>\n",
       "      <td>57.799999</td>\n",
       "      <td>58.824501</td>\n",
       "      <td>57.651001</td>\n",
       "      <td>58.459499</td>\n",
       "      <td>40094000</td>\n",
       "    </tr>\n",
       "    <tr>\n",
       "      <th>2019-03-06 00:00:00-05:00</th>\n",
       "      <td>58.588001</td>\n",
       "      <td>58.737000</td>\n",
       "      <td>58.152500</td>\n",
       "      <td>58.247002</td>\n",
       "      <td>23602000</td>\n",
       "    </tr>\n",
       "    <tr>\n",
       "      <th>2019-03-07 00:00:00-05:00</th>\n",
       "      <td>58.025002</td>\n",
       "      <td>58.179001</td>\n",
       "      <td>57.085499</td>\n",
       "      <td>57.542500</td>\n",
       "      <td>30086000</td>\n",
       "    </tr>\n",
       "    <tr>\n",
       "      <th>...</th>\n",
       "      <td>...</td>\n",
       "      <td>...</td>\n",
       "      <td>...</td>\n",
       "      <td>...</td>\n",
       "      <td>...</td>\n",
       "    </tr>\n",
       "    <tr>\n",
       "      <th>2023-02-21 00:00:00-05:00</th>\n",
       "      <td>93.000000</td>\n",
       "      <td>93.099998</td>\n",
       "      <td>91.720001</td>\n",
       "      <td>91.790001</td>\n",
       "      <td>33629300</td>\n",
       "    </tr>\n",
       "    <tr>\n",
       "      <th>2023-02-22 00:00:00-05:00</th>\n",
       "      <td>91.699997</td>\n",
       "      <td>92.110001</td>\n",
       "      <td>90.610001</td>\n",
       "      <td>91.650002</td>\n",
       "      <td>30884000</td>\n",
       "    </tr>\n",
       "    <tr>\n",
       "      <th>2023-02-23 00:00:00-05:00</th>\n",
       "      <td>91.919998</td>\n",
       "      <td>91.940002</td>\n",
       "      <td>89.760002</td>\n",
       "      <td>90.889999</td>\n",
       "      <td>41206400</td>\n",
       "    </tr>\n",
       "    <tr>\n",
       "      <th>2023-02-24 00:00:00-05:00</th>\n",
       "      <td>89.440002</td>\n",
       "      <td>89.889999</td>\n",
       "      <td>88.580002</td>\n",
       "      <td>89.129997</td>\n",
       "      <td>36585100</td>\n",
       "    </tr>\n",
       "    <tr>\n",
       "      <th>2023-02-27 00:00:00-05:00</th>\n",
       "      <td>89.870003</td>\n",
       "      <td>90.160004</td>\n",
       "      <td>89.339996</td>\n",
       "      <td>89.870003</td>\n",
       "      <td>27502300</td>\n",
       "    </tr>\n",
       "  </tbody>\n",
       "</table>\n",
       "<p>1006 rows × 5 columns</p>\n",
       "</div>"
      ],
      "text/plain": [
       "                                Open       High        Low      Close  \\\n",
       "Date                                                                    \n",
       "2019-03-01 00:00:00-05:00  56.549999  57.500000  56.549999  57.425999   \n",
       "2019-03-04 00:00:00-05:00  57.728001  58.276001  56.912498  57.671001   \n",
       "2019-03-05 00:00:00-05:00  57.799999  58.824501  57.651001  58.459499   \n",
       "2019-03-06 00:00:00-05:00  58.588001  58.737000  58.152500  58.247002   \n",
       "2019-03-07 00:00:00-05:00  58.025002  58.179001  57.085499  57.542500   \n",
       "...                              ...        ...        ...        ...   \n",
       "2023-02-21 00:00:00-05:00  93.000000  93.099998  91.720001  91.790001   \n",
       "2023-02-22 00:00:00-05:00  91.699997  92.110001  90.610001  91.650002   \n",
       "2023-02-23 00:00:00-05:00  91.919998  91.940002  89.760002  90.889999   \n",
       "2023-02-24 00:00:00-05:00  89.440002  89.889999  88.580002  89.129997   \n",
       "2023-02-27 00:00:00-05:00  89.870003  90.160004  89.339996  89.870003   \n",
       "\n",
       "                             Volume  \n",
       "Date                                 \n",
       "2019-03-01 00:00:00-05:00  34086000  \n",
       "2019-03-04 00:00:00-05:00  35490000  \n",
       "2019-03-05 00:00:00-05:00  40094000  \n",
       "2019-03-06 00:00:00-05:00  23602000  \n",
       "2019-03-07 00:00:00-05:00  30086000  \n",
       "...                             ...  \n",
       "2023-02-21 00:00:00-05:00  33629300  \n",
       "2023-02-22 00:00:00-05:00  30884000  \n",
       "2023-02-23 00:00:00-05:00  41206400  \n",
       "2023-02-24 00:00:00-05:00  36585100  \n",
       "2023-02-27 00:00:00-05:00  27502300  \n",
       "\n",
       "[1006 rows x 5 columns]"
      ]
     },
     "execution_count": 172,
     "metadata": {},
     "output_type": "execute_result"
    }
   ],
   "source": [
    "today = dt.datetime.now()\n",
    "end = dt.datetime(2023,2,28, 0,0,0)#dt.datetime.date(2022,3,30)\n",
    "start = end - dt.timedelta(days = (4*365))\n",
    "\n",
    "Google_df = yh.Ticker(\"GOOGL\").history(start = start,end = end)\n",
    "Google_df = Google_df.iloc[:,:-2]\n",
    "Google_df"
   ]
  },
  {
   "attachments": {},
   "cell_type": "markdown",
   "id": "6dacc724",
   "metadata": {},
   "source": [
    "We chose our target variable to be the 'Opening Price', represented by the column 'Open'"
   ]
  },
  {
   "cell_type": "code",
   "execution_count": 173,
   "id": "7aee0256",
   "metadata": {},
   "outputs": [],
   "source": [
    "training_set = Google_df.iloc[:,1:2].values"
   ]
  },
  {
   "attachments": {},
   "cell_type": "markdown",
   "id": "1764796f",
   "metadata": {},
   "source": [
    "### Standardization\n",
    "\n",
    "Since LSTM's require the use of sigmoid functions, Normalising the Data is necessarry."
   ]
  },
  {
   "cell_type": "code",
   "execution_count": 174,
   "id": "bde21779",
   "metadata": {},
   "outputs": [
    {
     "data": {
      "text/plain": [
       "1006"
      ]
     },
     "execution_count": 174,
     "metadata": {},
     "output_type": "execute_result"
    }
   ],
   "source": [
    "sc = MinMaxScaler()\n",
    "\n",
    "training_set = sc.fit_transform(training_set)\n",
    "len(training_set)"
   ]
  },
  {
   "attachments": {},
   "cell_type": "markdown",
   "id": "bd652479",
   "metadata": {},
   "source": [
    "### Prediction Variable:\n",
    "\n",
    "Open stock prices (at a time t) will be our input value. The future open stock price ( future time t+1) would be our output, which would be the open value of the succeeding day of t ( i.e t+1)."
   ]
  },
  {
   "cell_type": "code",
   "execution_count": 175,
   "id": "9633bf82",
   "metadata": {},
   "outputs": [
    {
     "data": {
      "text/plain": [
       "1005"
      ]
     },
     "execution_count": 175,
     "metadata": {},
     "output_type": "execute_result"
    }
   ],
   "source": [
    "X_train = training_set[0:1005]\n",
    "y_train = training_set[1:1006]\n",
    "\n",
    "len(X_train)"
   ]
  },
  {
   "cell_type": "code",
   "execution_count": 176,
   "id": "fc182909",
   "metadata": {},
   "outputs": [
    {
     "data": {
      "text/plain": [
       "1005"
      ]
     },
     "execution_count": 176,
     "metadata": {},
     "output_type": "execute_result"
    }
   ],
   "source": [
    "len(y_train)"
   ]
  },
  {
   "cell_type": "code",
   "execution_count": 177,
   "id": "0ae6c061",
   "metadata": {},
   "outputs": [
    {
     "data": {
      "text/plain": [
       "array([[[0.05048134]],\n",
       "\n",
       "       [[0.05831606]],\n",
       "\n",
       "       [[0.06385386]],\n",
       "\n",
       "       ...,\n",
       "\n",
       "       [[0.3999132 ]],\n",
       "\n",
       "       [[0.39819686]],\n",
       "\n",
       "       [[0.37749948]]])"
      ]
     },
     "execution_count": 177,
     "metadata": {},
     "output_type": "execute_result"
    }
   ],
   "source": [
    "np.reshape(X_train, (1005,1,1))"
   ]
  },
  {
   "cell_type": "code",
   "execution_count": 178,
   "id": "87d3cd68",
   "metadata": {},
   "outputs": [],
   "source": [
    "from keras.models import Sequential\n",
    "from keras.layers import Dense\n",
    "from keras.layers import LSTM"
   ]
  },
  {
   "cell_type": "code",
   "execution_count": 179,
   "id": "310ebe2a",
   "metadata": {},
   "outputs": [],
   "source": [
    "regressor = Sequential()\n",
    "\n",
    "regressor.add(LSTM(units = 4, activation = 'sigmoid',input_shape = (None,1)))\n",
    "regressor.add(Dense(1))\n",
    "\n"
   ]
  },
  {
   "cell_type": "code",
   "execution_count": 180,
   "id": "ca948ccd",
   "metadata": {},
   "outputs": [
    {
     "name": "stdout",
     "output_type": "stream",
     "text": [
      "Model: \"sequential_6\"\n",
      "_________________________________________________________________\n",
      " Layer (type)                Output Shape              Param #   \n",
      "=================================================================\n",
      " lstm_6 (LSTM)               (None, 4)                 96        \n",
      "                                                                 \n",
      " dense_6 (Dense)             (None, 1)                 5         \n",
      "                                                                 \n",
      "=================================================================\n",
      "Total params: 101\n",
      "Trainable params: 101\n",
      "Non-trainable params: 0\n",
      "_________________________________________________________________\n"
     ]
    }
   ],
   "source": [
    "regressor.compile(loss='mean_squared_error', optimizer='adam')\n",
    "regressor.summary()\n"
   ]
  },
  {
   "cell_type": "code",
   "execution_count": 181,
   "id": "6bce51ce",
   "metadata": {},
   "outputs": [
    {
     "name": "stdout",
     "output_type": "stream",
     "text": [
      "Epoch 1/200\n",
      "32/32 [==============================] - 1s 2ms/step - loss: 0.0694\n",
      "Epoch 2/200\n",
      "32/32 [==============================] - 0s 2ms/step - loss: 0.0643\n",
      "Epoch 3/200\n",
      "32/32 [==============================] - 0s 1ms/step - loss: 0.0616\n",
      "Epoch 4/200\n",
      "32/32 [==============================] - 0s 1ms/step - loss: 0.0589\n",
      "Epoch 5/200\n",
      "32/32 [==============================] - 0s 1ms/step - loss: 0.0563\n",
      "Epoch 6/200\n",
      "32/32 [==============================] - 0s 1ms/step - loss: 0.0537\n",
      "Epoch 7/200\n",
      "32/32 [==============================] - 0s 1ms/step - loss: 0.0512\n",
      "Epoch 8/200\n",
      "32/32 [==============================] - 0s 1ms/step - loss: 0.0487\n",
      "Epoch 9/200\n",
      "32/32 [==============================] - 0s 1ms/step - loss: 0.0461\n",
      "Epoch 10/200\n",
      "32/32 [==============================] - 0s 1ms/step - loss: 0.0436\n",
      "Epoch 11/200\n",
      "32/32 [==============================] - 0s 1ms/step - loss: 0.0410\n",
      "Epoch 12/200\n",
      "32/32 [==============================] - 0s 1ms/step - loss: 0.0386\n",
      "Epoch 13/200\n",
      "32/32 [==============================] - 0s 1ms/step - loss: 0.0361\n",
      "Epoch 14/200\n",
      "32/32 [==============================] - 0s 1ms/step - loss: 0.0337\n",
      "Epoch 15/200\n",
      "32/32 [==============================] - 0s 1ms/step - loss: 0.0314\n",
      "Epoch 16/200\n",
      "32/32 [==============================] - 0s 1ms/step - loss: 0.0290\n",
      "Epoch 17/200\n",
      "32/32 [==============================] - 0s 1ms/step - loss: 0.0268\n",
      "Epoch 18/200\n",
      "32/32 [==============================] - 0s 1ms/step - loss: 0.0246\n",
      "Epoch 19/200\n",
      "32/32 [==============================] - 0s 1ms/step - loss: 0.0225\n",
      "Epoch 20/200\n",
      "32/32 [==============================] - 0s 1ms/step - loss: 0.0205\n",
      "Epoch 21/200\n",
      "32/32 [==============================] - 0s 1ms/step - loss: 0.0185\n",
      "Epoch 22/200\n",
      "32/32 [==============================] - 0s 1ms/step - loss: 0.0167\n",
      "Epoch 23/200\n",
      "32/32 [==============================] - 0s 1ms/step - loss: 0.0149\n",
      "Epoch 24/200\n",
      "32/32 [==============================] - 0s 1ms/step - loss: 0.0133\n",
      "Epoch 25/200\n",
      "32/32 [==============================] - 0s 1ms/step - loss: 0.0118\n",
      "Epoch 26/200\n",
      "32/32 [==============================] - 0s 1ms/step - loss: 0.0104\n",
      "Epoch 27/200\n",
      "32/32 [==============================] - 0s 1ms/step - loss: 0.0091\n",
      "Epoch 28/200\n",
      "32/32 [==============================] - 0s 1ms/step - loss: 0.0079\n",
      "Epoch 29/200\n",
      "32/32 [==============================] - 0s 1ms/step - loss: 0.0069\n",
      "Epoch 30/200\n",
      "32/32 [==============================] - 0s 1ms/step - loss: 0.0059\n",
      "Epoch 31/200\n",
      "32/32 [==============================] - 0s 1ms/step - loss: 0.0051\n",
      "Epoch 32/200\n",
      "32/32 [==============================] - 0s 1ms/step - loss: 0.0043\n",
      "Epoch 33/200\n",
      "32/32 [==============================] - 0s 1ms/step - loss: 0.0037\n",
      "Epoch 34/200\n",
      "32/32 [==============================] - 0s 1ms/step - loss: 0.0031\n",
      "Epoch 35/200\n",
      "32/32 [==============================] - 0s 1ms/step - loss: 0.0026\n",
      "Epoch 36/200\n",
      "32/32 [==============================] - 0s 1ms/step - loss: 0.0022\n",
      "Epoch 37/200\n",
      "32/32 [==============================] - 0s 1ms/step - loss: 0.0018\n",
      "Epoch 38/200\n",
      "32/32 [==============================] - 0s 1ms/step - loss: 0.0015\n",
      "Epoch 39/200\n",
      "32/32 [==============================] - 0s 1ms/step - loss: 0.0013\n",
      "Epoch 40/200\n",
      "32/32 [==============================] - 0s 1ms/step - loss: 0.0011\n",
      "Epoch 41/200\n",
      "32/32 [==============================] - 0s 1ms/step - loss: 9.1629e-04\n",
      "Epoch 42/200\n",
      "32/32 [==============================] - 0s 1ms/step - loss: 7.8104e-04\n",
      "Epoch 43/200\n",
      "32/32 [==============================] - 0s 1ms/step - loss: 6.7748e-04\n",
      "Epoch 44/200\n",
      "32/32 [==============================] - 0s 1ms/step - loss: 5.9224e-04\n",
      "Epoch 45/200\n",
      "32/32 [==============================] - 0s 1ms/step - loss: 5.2703e-04\n",
      "Epoch 46/200\n",
      "32/32 [==============================] - 0s 2ms/step - loss: 4.7406e-04\n",
      "Epoch 47/200\n",
      "32/32 [==============================] - 0s 2ms/step - loss: 4.3478e-04\n",
      "Epoch 48/200\n",
      "32/32 [==============================] - 0s 1ms/step - loss: 4.0446e-04\n",
      "Epoch 49/200\n",
      "32/32 [==============================] - 0s 1ms/step - loss: 3.8157e-04\n",
      "Epoch 50/200\n",
      "32/32 [==============================] - 0s 1ms/step - loss: 3.6380e-04\n",
      "Epoch 51/200\n",
      "32/32 [==============================] - 0s 1ms/step - loss: 3.5146e-04\n",
      "Epoch 52/200\n",
      "32/32 [==============================] - 0s 1ms/step - loss: 3.4222e-04\n",
      "Epoch 53/200\n",
      "32/32 [==============================] - 0s 1ms/step - loss: 3.3729e-04\n",
      "Epoch 54/200\n",
      "32/32 [==============================] - 0s 1ms/step - loss: 3.2934e-04\n",
      "Epoch 55/200\n",
      "32/32 [==============================] - 0s 1ms/step - loss: 3.2598e-04\n",
      "Epoch 56/200\n",
      "32/32 [==============================] - 0s 1ms/step - loss: 3.2315e-04\n",
      "Epoch 57/200\n",
      "32/32 [==============================] - 0s 1ms/step - loss: 3.2171e-04\n",
      "Epoch 58/200\n",
      "32/32 [==============================] - 0s 1ms/step - loss: 3.1992e-04\n",
      "Epoch 59/200\n",
      "32/32 [==============================] - 0s 1ms/step - loss: 3.1918e-04\n",
      "Epoch 60/200\n",
      "32/32 [==============================] - 0s 1ms/step - loss: 3.1883e-04\n",
      "Epoch 61/200\n",
      "32/32 [==============================] - 0s 1ms/step - loss: 3.1823e-04\n",
      "Epoch 62/200\n",
      "32/32 [==============================] - 0s 1ms/step - loss: 3.1742e-04\n",
      "Epoch 63/200\n",
      "32/32 [==============================] - 0s 1ms/step - loss: 3.1761e-04\n",
      "Epoch 64/200\n",
      "32/32 [==============================] - 0s 1ms/step - loss: 3.1792e-04\n",
      "Epoch 65/200\n",
      "32/32 [==============================] - 0s 1ms/step - loss: 3.1654e-04\n",
      "Epoch 66/200\n",
      "32/32 [==============================] - 0s 1ms/step - loss: 3.1690e-04\n",
      "Epoch 67/200\n",
      "32/32 [==============================] - 0s 1ms/step - loss: 3.1589e-04\n",
      "Epoch 68/200\n",
      "32/32 [==============================] - 0s 1ms/step - loss: 3.1700e-04\n",
      "Epoch 69/200\n",
      "32/32 [==============================] - 0s 1ms/step - loss: 3.1621e-04\n",
      "Epoch 70/200\n",
      "32/32 [==============================] - 0s 1ms/step - loss: 3.1633e-04\n",
      "Epoch 71/200\n",
      "32/32 [==============================] - 0s 1ms/step - loss: 3.1648e-04\n",
      "Epoch 72/200\n",
      "32/32 [==============================] - 0s 1ms/step - loss: 3.1651e-04\n",
      "Epoch 73/200\n",
      "32/32 [==============================] - 0s 1ms/step - loss: 3.1628e-04\n",
      "Epoch 74/200\n",
      "32/32 [==============================] - 0s 1ms/step - loss: 3.1637e-04\n",
      "Epoch 75/200\n",
      "32/32 [==============================] - 0s 1ms/step - loss: 3.1684e-04\n",
      "Epoch 76/200\n",
      "32/32 [==============================] - 0s 1ms/step - loss: 3.1570e-04\n",
      "Epoch 77/200\n",
      "32/32 [==============================] - 0s 1ms/step - loss: 3.1692e-04\n",
      "Epoch 78/200\n",
      "32/32 [==============================] - 0s 1ms/step - loss: 3.1753e-04\n",
      "Epoch 79/200\n",
      "32/32 [==============================] - 0s 1ms/step - loss: 3.1611e-04\n",
      "Epoch 80/200\n",
      "32/32 [==============================] - 0s 1ms/step - loss: 3.1733e-04\n",
      "Epoch 81/200\n",
      "32/32 [==============================] - 0s 1ms/step - loss: 3.1724e-04\n",
      "Epoch 82/200\n",
      "32/32 [==============================] - 0s 1ms/step - loss: 3.1529e-04\n",
      "Epoch 83/200\n",
      "32/32 [==============================] - 0s 1ms/step - loss: 3.1669e-04\n",
      "Epoch 84/200\n",
      "32/32 [==============================] - 0s 1ms/step - loss: 3.1656e-04\n",
      "Epoch 85/200\n",
      "32/32 [==============================] - 0s 1ms/step - loss: 3.1762e-04\n",
      "Epoch 86/200\n",
      "32/32 [==============================] - 0s 1ms/step - loss: 3.1346e-04\n",
      "Epoch 87/200\n",
      "32/32 [==============================] - 0s 1ms/step - loss: 3.1766e-04\n",
      "Epoch 88/200\n",
      "32/32 [==============================] - 0s 1ms/step - loss: 3.1571e-04\n",
      "Epoch 89/200\n",
      "32/32 [==============================] - 0s 1ms/step - loss: 3.1499e-04\n",
      "Epoch 90/200\n",
      "32/32 [==============================] - 0s 1ms/step - loss: 3.1528e-04\n",
      "Epoch 91/200\n",
      "32/32 [==============================] - 0s 1ms/step - loss: 3.1476e-04\n",
      "Epoch 92/200\n",
      "32/32 [==============================] - 0s 1ms/step - loss: 3.1431e-04\n",
      "Epoch 93/200\n",
      "32/32 [==============================] - 0s 1ms/step - loss: 3.1594e-04\n",
      "Epoch 94/200\n",
      "32/32 [==============================] - 0s 1ms/step - loss: 3.1509e-04\n",
      "Epoch 95/200\n",
      "32/32 [==============================] - 0s 1ms/step - loss: 3.1440e-04\n",
      "Epoch 96/200\n",
      "32/32 [==============================] - 0s 1ms/step - loss: 3.1358e-04\n",
      "Epoch 97/200\n",
      "32/32 [==============================] - 0s 1ms/step - loss: 3.1470e-04\n",
      "Epoch 98/200\n",
      "32/32 [==============================] - 0s 1ms/step - loss: 3.1474e-04\n",
      "Epoch 99/200\n",
      "32/32 [==============================] - 0s 1ms/step - loss: 3.1466e-04\n",
      "Epoch 100/200\n",
      "32/32 [==============================] - 0s 2ms/step - loss: 3.1505e-04\n",
      "Epoch 101/200\n",
      "32/32 [==============================] - 0s 1ms/step - loss: 3.1473e-04\n",
      "Epoch 102/200\n",
      "32/32 [==============================] - 0s 1ms/step - loss: 3.1425e-04\n",
      "Epoch 103/200\n",
      "32/32 [==============================] - 0s 1ms/step - loss: 3.1347e-04\n",
      "Epoch 104/200\n",
      "32/32 [==============================] - 0s 1ms/step - loss: 3.1889e-04\n",
      "Epoch 105/200\n",
      "32/32 [==============================] - 0s 1ms/step - loss: 3.1511e-04\n",
      "Epoch 106/200\n",
      "32/32 [==============================] - 0s 1ms/step - loss: 3.1509e-04\n",
      "Epoch 107/200\n",
      "32/32 [==============================] - 0s 1ms/step - loss: 3.1564e-04\n",
      "Epoch 108/200\n",
      "32/32 [==============================] - 0s 1ms/step - loss: 3.1624e-04\n",
      "Epoch 109/200\n",
      "32/32 [==============================] - 0s 1ms/step - loss: 3.1390e-04\n",
      "Epoch 110/200\n",
      "32/32 [==============================] - 0s 1ms/step - loss: 3.1190e-04\n",
      "Epoch 111/200\n",
      "32/32 [==============================] - 0s 1ms/step - loss: 3.1244e-04\n",
      "Epoch 112/200\n",
      "32/32 [==============================] - 0s 1ms/step - loss: 3.1369e-04\n",
      "Epoch 113/200\n",
      "32/32 [==============================] - 0s 1ms/step - loss: 3.1534e-04\n",
      "Epoch 114/200\n",
      "32/32 [==============================] - 0s 1ms/step - loss: 3.1421e-04\n",
      "Epoch 115/200\n",
      "32/32 [==============================] - 0s 1ms/step - loss: 3.1397e-04\n",
      "Epoch 116/200\n",
      "32/32 [==============================] - 0s 1ms/step - loss: 3.1432e-04\n",
      "Epoch 117/200\n",
      "32/32 [==============================] - 0s 1ms/step - loss: 3.1528e-04\n",
      "Epoch 118/200\n",
      "32/32 [==============================] - 0s 1ms/step - loss: 3.2095e-04\n",
      "Epoch 119/200\n",
      "32/32 [==============================] - 0s 1ms/step - loss: 3.1373e-04\n",
      "Epoch 120/200\n",
      "32/32 [==============================] - 0s 1ms/step - loss: 3.1535e-04\n",
      "Epoch 121/200\n",
      "32/32 [==============================] - 0s 1ms/step - loss: 3.1368e-04\n",
      "Epoch 122/200\n",
      "32/32 [==============================] - 0s 1ms/step - loss: 3.1367e-04\n",
      "Epoch 123/200\n",
      "32/32 [==============================] - 0s 1ms/step - loss: 3.1294e-04\n",
      "Epoch 124/200\n",
      "32/32 [==============================] - 0s 1ms/step - loss: 3.1317e-04\n",
      "Epoch 125/200\n",
      "32/32 [==============================] - 0s 1ms/step - loss: 3.1301e-04\n",
      "Epoch 126/200\n",
      "32/32 [==============================] - 0s 1ms/step - loss: 3.1294e-04\n",
      "Epoch 127/200\n",
      "32/32 [==============================] - 0s 1ms/step - loss: 3.1340e-04\n",
      "Epoch 128/200\n",
      "32/32 [==============================] - 0s 1ms/step - loss: 3.1268e-04\n",
      "Epoch 129/200\n",
      "32/32 [==============================] - 0s 1ms/step - loss: 3.1065e-04\n",
      "Epoch 130/200\n",
      "32/32 [==============================] - 0s 1ms/step - loss: 3.1753e-04\n",
      "Epoch 131/200\n",
      "32/32 [==============================] - 0s 1ms/step - loss: 3.1354e-04\n",
      "Epoch 132/200\n",
      "32/32 [==============================] - 0s 1ms/step - loss: 3.1285e-04\n",
      "Epoch 133/200\n",
      "32/32 [==============================] - 0s 1ms/step - loss: 3.1141e-04\n",
      "Epoch 134/200\n",
      "32/32 [==============================] - 0s 1ms/step - loss: 3.1185e-04\n",
      "Epoch 135/200\n",
      "32/32 [==============================] - 0s 1ms/step - loss: 3.1328e-04\n",
      "Epoch 136/200\n",
      "32/32 [==============================] - 0s 1ms/step - loss: 3.1188e-04\n",
      "Epoch 137/200\n",
      "32/32 [==============================] - 0s 1ms/step - loss: 3.1157e-04\n",
      "Epoch 138/200\n",
      "32/32 [==============================] - 0s 1ms/step - loss: 3.1237e-04\n",
      "Epoch 139/200\n",
      "32/32 [==============================] - 0s 1ms/step - loss: 3.1360e-04\n",
      "Epoch 140/200\n",
      "32/32 [==============================] - 0s 1ms/step - loss: 3.1194e-04\n",
      "Epoch 141/200\n",
      "32/32 [==============================] - 0s 1ms/step - loss: 3.1227e-04\n",
      "Epoch 142/200\n",
      "32/32 [==============================] - 0s 2ms/step - loss: 3.1128e-04\n",
      "Epoch 143/200\n",
      "32/32 [==============================] - 0s 2ms/step - loss: 3.1301e-04\n",
      "Epoch 144/200\n",
      "32/32 [==============================] - 0s 1ms/step - loss: 3.1356e-04\n",
      "Epoch 145/200\n",
      "32/32 [==============================] - 0s 1ms/step - loss: 3.1675e-04\n",
      "Epoch 146/200\n",
      "32/32 [==============================] - 0s 1ms/step - loss: 3.1175e-04\n",
      "Epoch 147/200\n",
      "32/32 [==============================] - 0s 1ms/step - loss: 3.1053e-04\n",
      "Epoch 148/200\n",
      "32/32 [==============================] - 0s 1ms/step - loss: 3.2015e-04\n",
      "Epoch 149/200\n",
      "32/32 [==============================] - 0s 1ms/step - loss: 3.3799e-04\n",
      "Epoch 150/200\n",
      "32/32 [==============================] - 0s 1ms/step - loss: 3.1396e-04\n",
      "Epoch 151/200\n",
      "32/32 [==============================] - 0s 1ms/step - loss: 3.1160e-04\n",
      "Epoch 152/200\n",
      "32/32 [==============================] - 0s 1ms/step - loss: 3.1037e-04\n",
      "Epoch 153/200\n",
      "32/32 [==============================] - 0s 1ms/step - loss: 3.1772e-04\n",
      "Epoch 154/200\n",
      "32/32 [==============================] - 0s 1ms/step - loss: 3.1480e-04\n",
      "Epoch 155/200\n",
      "32/32 [==============================] - 0s 1ms/step - loss: 3.1048e-04\n",
      "Epoch 156/200\n",
      "32/32 [==============================] - 0s 2ms/step - loss: 3.1074e-04\n",
      "Epoch 157/200\n",
      "32/32 [==============================] - 0s 1ms/step - loss: 3.1006e-04\n",
      "Epoch 158/200\n",
      "32/32 [==============================] - 0s 1ms/step - loss: 3.1041e-04\n",
      "Epoch 159/200\n",
      "32/32 [==============================] - 0s 1ms/step - loss: 3.1092e-04\n",
      "Epoch 160/200\n",
      "32/32 [==============================] - 0s 1ms/step - loss: 3.1086e-04\n",
      "Epoch 161/200\n",
      "32/32 [==============================] - 0s 1ms/step - loss: 3.1317e-04\n",
      "Epoch 162/200\n",
      "32/32 [==============================] - 0s 2ms/step - loss: 3.1660e-04\n",
      "Epoch 163/200\n",
      "32/32 [==============================] - 0s 1ms/step - loss: 3.1065e-04\n",
      "Epoch 164/200\n",
      "32/32 [==============================] - 0s 2ms/step - loss: 3.1019e-04\n",
      "Epoch 165/200\n",
      "32/32 [==============================] - 0s 1ms/step - loss: 3.1016e-04\n",
      "Epoch 166/200\n",
      "32/32 [==============================] - 0s 1ms/step - loss: 3.1361e-04\n",
      "Epoch 167/200\n",
      "32/32 [==============================] - 0s 1ms/step - loss: 3.0945e-04\n",
      "Epoch 168/200\n",
      "32/32 [==============================] - 0s 1ms/step - loss: 3.1014e-04\n",
      "Epoch 169/200\n",
      "32/32 [==============================] - 0s 1ms/step - loss: 3.1864e-04\n",
      "Epoch 170/200\n",
      "32/32 [==============================] - 0s 1ms/step - loss: 3.1358e-04\n",
      "Epoch 171/200\n",
      "32/32 [==============================] - 0s 1ms/step - loss: 3.1563e-04\n",
      "Epoch 172/200\n",
      "32/32 [==============================] - 0s 1ms/step - loss: 3.2704e-04\n",
      "Epoch 173/200\n",
      "32/32 [==============================] - 0s 1ms/step - loss: 3.0970e-04\n",
      "Epoch 174/200\n",
      "32/32 [==============================] - 0s 1ms/step - loss: 3.0968e-04\n",
      "Epoch 175/200\n",
      "32/32 [==============================] - 0s 1ms/step - loss: 3.0841e-04\n",
      "Epoch 176/200\n",
      "32/32 [==============================] - 0s 1ms/step - loss: 3.0903e-04\n",
      "Epoch 177/200\n",
      "32/32 [==============================] - 0s 1ms/step - loss: 3.0848e-04\n",
      "Epoch 178/200\n",
      "32/32 [==============================] - 0s 2ms/step - loss: 3.0984e-04\n",
      "Epoch 179/200\n",
      "32/32 [==============================] - 0s 1ms/step - loss: 3.1274e-04\n",
      "Epoch 180/200\n",
      "32/32 [==============================] - 0s 2ms/step - loss: 3.1344e-04\n",
      "Epoch 181/200\n",
      "32/32 [==============================] - 0s 1ms/step - loss: 3.1193e-04\n",
      "Epoch 182/200\n",
      "32/32 [==============================] - 0s 1ms/step - loss: 3.1000e-04\n",
      "Epoch 183/200\n",
      "32/32 [==============================] - 0s 2ms/step - loss: 3.1025e-04\n",
      "Epoch 184/200\n",
      "32/32 [==============================] - 0s 1ms/step - loss: 3.1004e-04\n",
      "Epoch 185/200\n",
      "32/32 [==============================] - 0s 1ms/step - loss: 3.1173e-04\n",
      "Epoch 186/200\n",
      "32/32 [==============================] - 0s 1ms/step - loss: 3.1376e-04\n",
      "Epoch 187/200\n",
      "32/32 [==============================] - 0s 1ms/step - loss: 3.1542e-04\n",
      "Epoch 188/200\n",
      "32/32 [==============================] - 0s 1ms/step - loss: 3.1155e-04\n",
      "Epoch 189/200\n",
      "32/32 [==============================] - 0s 1ms/step - loss: 3.0993e-04\n",
      "Epoch 190/200\n",
      "32/32 [==============================] - 0s 1ms/step - loss: 3.1061e-04\n",
      "Epoch 191/200\n",
      "32/32 [==============================] - 0s 1ms/step - loss: 3.1086e-04\n",
      "Epoch 192/200\n",
      "32/32 [==============================] - 0s 1ms/step - loss: 3.0912e-04\n",
      "Epoch 193/200\n",
      "32/32 [==============================] - 0s 1ms/step - loss: 3.1812e-04\n",
      "Epoch 194/200\n"
     ]
    },
    {
     "name": "stdout",
     "output_type": "stream",
     "text": [
      "32/32 [==============================] - 0s 1ms/step - loss: 3.0847e-04\n",
      "Epoch 195/200\n",
      "32/32 [==============================] - 0s 1ms/step - loss: 3.1285e-04\n",
      "Epoch 196/200\n",
      "32/32 [==============================] - 0s 1ms/step - loss: 3.1253e-04\n",
      "Epoch 197/200\n",
      "32/32 [==============================] - 0s 1ms/step - loss: 3.1038e-04\n",
      "Epoch 198/200\n",
      "32/32 [==============================] - 0s 1ms/step - loss: 3.1009e-04\n",
      "Epoch 199/200\n",
      "32/32 [==============================] - 0s 1ms/step - loss: 3.1212e-04\n",
      "Epoch 200/200\n",
      "32/32 [==============================] - 0s 1ms/step - loss: 3.2146e-04\n"
     ]
    },
    {
     "data": {
      "text/plain": [
       "<keras.callbacks.History at 0x7f8ae981f640>"
      ]
     },
     "execution_count": 181,
     "metadata": {},
     "output_type": "execute_result"
    }
   ],
   "source": [
    "regressor.fit(X_train,y_train,batch_size = 32, epochs = 200)"
   ]
  },
  {
   "cell_type": "code",
   "execution_count": 220,
   "id": "deba8cc3",
   "metadata": {},
   "outputs": [
    {
     "data": {
      "text/plain": [
       "21"
      ]
     },
     "execution_count": 220,
     "metadata": {},
     "output_type": "execute_result"
    }
   ],
   "source": [
    "end = dt.datetime.now()\n",
    "test_start = end - dt.timedelta(days = 30)\n",
    "\n",
    "test_df = yh.Ticker(\"GOOGL\").history(start = test_start,end = end)\n",
    "test_df = test_df.iloc[:,:-2]\n",
    "test_set = test_df.iloc[:-1,1:2].values\n",
    "len(test_set)\n"
   ]
  },
  {
   "cell_type": "code",
   "execution_count": 221,
   "id": "d3c7cab6",
   "metadata": {},
   "outputs": [],
   "source": [
    "test_inputs = sc.transform(test_set)\n",
    "test_inputs = np.reshape(test_inputs,(21,1,1))\n"
   ]
  },
  {
   "cell_type": "code",
   "execution_count": 222,
   "id": "c4b04570",
   "metadata": {},
   "outputs": [
    {
     "name": "stdout",
     "output_type": "stream",
     "text": [
      "1/1 [==============================] - 0s 20ms/step\n"
     ]
    },
    {
     "data": {
      "text/plain": [
       "21"
      ]
     },
     "execution_count": 222,
     "metadata": {},
     "output_type": "execute_result"
    }
   ],
   "source": [
    "predicted_price = regressor.predict(test_inputs)\n",
    "predicted_price = sc.inverse_transform(predicted_price)\n",
    "len(predicted_price)"
   ]
  },
  {
   "cell_type": "code",
   "execution_count": 223,
   "id": "301e09a0",
   "metadata": {},
   "outputs": [
    {
     "data": {
      "text/plain": [
       "<function matplotlib.pyplot.show(close=None, block=None)>"
      ]
     },
     "execution_count": 223,
     "metadata": {},
     "output_type": "execute_result"
    },
    {
     "data": {
      "image/png": "[encoded data removed]",
      "text/plain": [
       "<Figure size 640x480 with 1 Axes>"
      ]
     },
     "metadata": {},
     "output_type": "display_data"
    }
   ],
   "source": [
    "plt.plot(test_set,color = 'blue',label = \"Real Observed Price\")\n",
    "plt.plot(predicted_price, color = 'red', label ='Predicted Price')\n",
    "\n",
    "plt.xlabel('Time')\n",
    "plt.ylabel('Google Stocks Opening Price')\n",
    "plt.show"
   ]
  },
  {
   "cell_type": "code",
   "execution_count": 252,
   "id": "b63f1736",
   "metadata": {},
   "outputs": [],
   "source": [
    "pred = pd.to_numeric((pd.Series(np.ravel(predicted_price))))\n",
    "test_df = test_df.reset_index()"
   ]
  },
  {
   "cell_type": "code",
   "execution_count": 254,
   "id": "6563d92c",
   "metadata": {},
   "outputs": [
    {
     "data": {
      "text/html": [
       "<div>\n",
       "<style scoped>\n",
       "    .dataframe tbody tr th:only-of-type {\n",
       "        vertical-align: middle;\n",
       "    }\n",
       "\n",
       "    .dataframe tbody tr th {\n",
       "        vertical-align: top;\n",
       "    }\n",
       "\n",
       "    .dataframe thead th {\n",
       "        text-align: right;\n",
       "    }\n",
       "</style>\n",
       "<table border=\"1\" class=\"dataframe\">\n",
       "  <thead>\n",
       "    <tr style=\"text-align: right;\">\n",
       "      <th></th>\n",
       "      <th>Date</th>\n",
       "      <th>Open</th>\n",
       "      <th>High</th>\n",
       "      <th>Low</th>\n",
       "      <th>Close</th>\n",
       "      <th>Volume</th>\n",
       "      <th>Predictions</th>\n",
       "      <th>Error</th>\n",
       "    </tr>\n",
       "  </thead>\n",
       "  <tbody>\n",
       "    <tr>\n",
       "      <th>0</th>\n",
       "      <td>2023-03-01 00:00:00-05:00</td>\n",
       "      <td>89.980003</td>\n",
       "      <td>91.029999</td>\n",
       "      <td>89.669998</td>\n",
       "      <td>90.360001</td>\n",
       "      <td>31111200</td>\n",
       "      <td>91.064476</td>\n",
       "      <td>1.084473</td>\n",
       "    </tr>\n",
       "    <tr>\n",
       "      <th>1</th>\n",
       "      <td>2023-03-02 00:00:00-05:00</td>\n",
       "      <td>89.660004</td>\n",
       "      <td>92.279999</td>\n",
       "      <td>89.589996</td>\n",
       "      <td>92.000000</td>\n",
       "      <td>32204400</td>\n",
       "      <td>92.337837</td>\n",
       "      <td>2.677834</td>\n",
       "    </tr>\n",
       "    <tr>\n",
       "      <th>2</th>\n",
       "      <td>2023-03-03 00:00:00-05:00</td>\n",
       "      <td>92.480003</td>\n",
       "      <td>93.730003</td>\n",
       "      <td>92.449997</td>\n",
       "      <td>93.650002</td>\n",
       "      <td>35133300</td>\n",
       "      <td>93.815598</td>\n",
       "      <td>1.335594</td>\n",
       "    </tr>\n",
       "    <tr>\n",
       "      <th>3</th>\n",
       "      <td>2023-03-06 00:00:00-05:00</td>\n",
       "      <td>94.019997</td>\n",
       "      <td>95.970001</td>\n",
       "      <td>94.000000</td>\n",
       "      <td>95.129997</td>\n",
       "      <td>32639300</td>\n",
       "      <td>96.099220</td>\n",
       "      <td>2.079224</td>\n",
       "    </tr>\n",
       "    <tr>\n",
       "      <th>4</th>\n",
       "      <td>2023-03-07 00:00:00-05:00</td>\n",
       "      <td>94.980003</td>\n",
       "      <td>95.669998</td>\n",
       "      <td>93.529999</td>\n",
       "      <td>93.860001</td>\n",
       "      <td>27835500</td>\n",
       "      <td>95.793343</td>\n",
       "      <td>0.813339</td>\n",
       "    </tr>\n",
       "    <tr>\n",
       "      <th>5</th>\n",
       "      <td>2023-03-08 00:00:00-05:00</td>\n",
       "      <td>94.120003</td>\n",
       "      <td>95.959999</td>\n",
       "      <td>94.000000</td>\n",
       "      <td>94.250000</td>\n",
       "      <td>34103300</td>\n",
       "      <td>96.089027</td>\n",
       "      <td>1.969025</td>\n",
       "    </tr>\n",
       "    <tr>\n",
       "      <th>6</th>\n",
       "      <td>2023-03-09 00:00:00-05:00</td>\n",
       "      <td>94.050003</td>\n",
       "      <td>95.529999</td>\n",
       "      <td>91.900002</td>\n",
       "      <td>92.320000</td>\n",
       "      <td>28813500</td>\n",
       "      <td>95.650604</td>\n",
       "      <td>1.600601</td>\n",
       "    </tr>\n",
       "    <tr>\n",
       "      <th>7</th>\n",
       "      <td>2023-03-10 00:00:00-05:00</td>\n",
       "      <td>92.169998</td>\n",
       "      <td>92.790001</td>\n",
       "      <td>90.400002</td>\n",
       "      <td>90.629997</td>\n",
       "      <td>35927000</td>\n",
       "      <td>92.857521</td>\n",
       "      <td>0.687523</td>\n",
       "    </tr>\n",
       "    <tr>\n",
       "      <th>8</th>\n",
       "      <td>2023-03-13 00:00:00-04:00</td>\n",
       "      <td>90.089996</td>\n",
       "      <td>92.570000</td>\n",
       "      <td>89.419998</td>\n",
       "      <td>91.110001</td>\n",
       "      <td>37335600</td>\n",
       "      <td>92.633347</td>\n",
       "      <td>2.543350</td>\n",
       "    </tr>\n",
       "    <tr>\n",
       "      <th>9</th>\n",
       "      <td>2023-03-14 00:00:00-04:00</td>\n",
       "      <td>92.559998</td>\n",
       "      <td>94.360001</td>\n",
       "      <td>92.440002</td>\n",
       "      <td>93.970001</td>\n",
       "      <td>36050200</td>\n",
       "      <td>94.457787</td>\n",
       "      <td>1.897789</td>\n",
       "    </tr>\n",
       "    <tr>\n",
       "      <th>10</th>\n",
       "      <td>2023-03-15 00:00:00-04:00</td>\n",
       "      <td>93.220001</td>\n",
       "      <td>96.930000</td>\n",
       "      <td>92.639999</td>\n",
       "      <td>96.110001</td>\n",
       "      <td>50622100</td>\n",
       "      <td>97.077950</td>\n",
       "      <td>3.857948</td>\n",
       "    </tr>\n",
       "    <tr>\n",
       "      <th>11</th>\n",
       "      <td>2023-03-16 00:00:00-04:00</td>\n",
       "      <td>96.199997</td>\n",
       "      <td>101.190002</td>\n",
       "      <td>95.500000</td>\n",
       "      <td>100.320000</td>\n",
       "      <td>65492000</td>\n",
       "      <td>101.419136</td>\n",
       "      <td>5.219139</td>\n",
       "    </tr>\n",
       "    <tr>\n",
       "      <th>12</th>\n",
       "      <td>2023-03-17 00:00:00-04:00</td>\n",
       "      <td>100.260002</td>\n",
       "      <td>102.839996</td>\n",
       "      <td>100.099998</td>\n",
       "      <td>101.620003</td>\n",
       "      <td>60979700</td>\n",
       "      <td>103.098602</td>\n",
       "      <td>2.838600</td>\n",
       "    </tr>\n",
       "    <tr>\n",
       "      <th>13</th>\n",
       "      <td>2023-03-20 00:00:00-04:00</td>\n",
       "      <td>100.120003</td>\n",
       "      <td>101.750000</td>\n",
       "      <td>99.870003</td>\n",
       "      <td>101.220001</td>\n",
       "      <td>32960400</td>\n",
       "      <td>101.989304</td>\n",
       "      <td>1.869301</td>\n",
       "    </tr>\n",
       "    <tr>\n",
       "      <th>14</th>\n",
       "      <td>2023-03-21 00:00:00-04:00</td>\n",
       "      <td>101.250000</td>\n",
       "      <td>105.099998</td>\n",
       "      <td>101.220001</td>\n",
       "      <td>104.919998</td>\n",
       "      <td>42110300</td>\n",
       "      <td>105.396156</td>\n",
       "      <td>4.146156</td>\n",
       "    </tr>\n",
       "    <tr>\n",
       "      <th>15</th>\n",
       "      <td>2023-03-22 00:00:00-04:00</td>\n",
       "      <td>104.269997</td>\n",
       "      <td>106.589996</td>\n",
       "      <td>103.330002</td>\n",
       "      <td>103.370003</td>\n",
       "      <td>43427400</td>\n",
       "      <td>106.908646</td>\n",
       "      <td>2.638649</td>\n",
       "    </tr>\n",
       "    <tr>\n",
       "      <th>16</th>\n",
       "      <td>2023-03-23 00:00:00-04:00</td>\n",
       "      <td>105.059998</td>\n",
       "      <td>106.300003</td>\n",
       "      <td>104.459999</td>\n",
       "      <td>105.599998</td>\n",
       "      <td>40797800</td>\n",
       "      <td>106.614426</td>\n",
       "      <td>1.554428</td>\n",
       "    </tr>\n",
       "    <tr>\n",
       "      <th>17</th>\n",
       "      <td>2023-03-24 00:00:00-04:00</td>\n",
       "      <td>104.989998</td>\n",
       "      <td>105.489998</td>\n",
       "      <td>103.839996</td>\n",
       "      <td>105.440002</td>\n",
       "      <td>30393300</td>\n",
       "      <td>105.792221</td>\n",
       "      <td>0.802223</td>\n",
       "    </tr>\n",
       "    <tr>\n",
       "      <th>18</th>\n",
       "      <td>2023-03-27 00:00:00-04:00</td>\n",
       "      <td>104.620003</td>\n",
       "      <td>104.760002</td>\n",
       "      <td>101.930000</td>\n",
       "      <td>102.459999</td>\n",
       "      <td>31120900</td>\n",
       "      <td>105.050758</td>\n",
       "      <td>0.430756</td>\n",
       "    </tr>\n",
       "    <tr>\n",
       "      <th>19</th>\n",
       "      <td>2023-03-28 00:00:00-04:00</td>\n",
       "      <td>102.440002</td>\n",
       "      <td>102.449997</td>\n",
       "      <td>99.739998</td>\n",
       "      <td>101.029999</td>\n",
       "      <td>32057900</td>\n",
       "      <td>102.701782</td>\n",
       "      <td>0.261780</td>\n",
       "    </tr>\n",
       "    <tr>\n",
       "      <th>20</th>\n",
       "      <td>2023-03-29 00:00:00-04:00</td>\n",
       "      <td>102.279999</td>\n",
       "      <td>102.489998</td>\n",
       "      <td>100.650002</td>\n",
       "      <td>101.389999</td>\n",
       "      <td>28779600</td>\n",
       "      <td>102.742485</td>\n",
       "      <td>0.462486</td>\n",
       "    </tr>\n",
       "  </tbody>\n",
       "</table>\n",
       "</div>"
      ],
      "text/plain": [
       "                        Date        Open        High         Low       Close  \\\n",
       "0  2023-03-01 00:00:00-05:00   89.980003   91.029999   89.669998   90.360001   \n",
       "1  2023-03-02 00:00:00-05:00   89.660004   92.279999   89.589996   92.000000   \n",
       "2  2023-03-03 00:00:00-05:00   92.480003   93.730003   92.449997   93.650002   \n",
       "3  2023-03-06 00:00:00-05:00   94.019997   95.970001   94.000000   95.129997   \n",
       "4  2023-03-07 00:00:00-05:00   94.980003   95.669998   93.529999   93.860001   \n",
       "5  2023-03-08 00:00:00-05:00   94.120003   95.959999   94.000000   94.250000   \n",
       "6  2023-03-09 00:00:00-05:00   94.050003   95.529999   91.900002   92.320000   \n",
       "7  2023-03-10 00:00:00-05:00   92.169998   92.790001   90.400002   90.629997   \n",
       "8  2023-03-13 00:00:00-04:00   90.089996   92.570000   89.419998   91.110001   \n",
       "9  2023-03-14 00:00:00-04:00   92.559998   94.360001   92.440002   93.970001   \n",
       "10 2023-03-15 00:00:00-04:00   93.220001   96.930000   92.639999   96.110001   \n",
       "11 2023-03-16 00:00:00-04:00   96.199997  101.190002   95.500000  100.320000   \n",
       "12 2023-03-17 00:00:00-04:00  100.260002  102.839996  100.099998  101.620003   \n",
       "13 2023-03-20 00:00:00-04:00  100.120003  101.750000   99.870003  101.220001   \n",
       "14 2023-03-21 00:00:00-04:00  101.250000  105.099998  101.220001  104.919998   \n",
       "15 2023-03-22 00:00:00-04:00  104.269997  106.589996  103.330002  103.370003   \n",
       "16 2023-03-23 00:00:00-04:00  105.059998  106.300003  104.459999  105.599998   \n",
       "17 2023-03-24 00:00:00-04:00  104.989998  105.489998  103.839996  105.440002   \n",
       "18 2023-03-27 00:00:00-04:00  104.620003  104.760002  101.930000  102.459999   \n",
       "19 2023-03-28 00:00:00-04:00  102.440002  102.449997   99.739998  101.029999   \n",
       "20 2023-03-29 00:00:00-04:00  102.279999  102.489998  100.650002  101.389999   \n",
       "\n",
       "      Volume  Predictions     Error  \n",
       "0   31111200    91.064476  1.084473  \n",
       "1   32204400    92.337837  2.677834  \n",
       "2   35133300    93.815598  1.335594  \n",
       "3   32639300    96.099220  2.079224  \n",
       "4   27835500    95.793343  0.813339  \n",
       "5   34103300    96.089027  1.969025  \n",
       "6   28813500    95.650604  1.600601  \n",
       "7   35927000    92.857521  0.687523  \n",
       "8   37335600    92.633347  2.543350  \n",
       "9   36050200    94.457787  1.897789  \n",
       "10  50622100    97.077950  3.857948  \n",
       "11  65492000   101.419136  5.219139  \n",
       "12  60979700   103.098602  2.838600  \n",
       "13  32960400   101.989304  1.869301  \n",
       "14  42110300   105.396156  4.146156  \n",
       "15  43427400   106.908646  2.638649  \n",
       "16  40797800   106.614426  1.554428  \n",
       "17  30393300   105.792221  0.802223  \n",
       "18  31120900   105.050758  0.430756  \n",
       "19  32057900   102.701782  0.261780  \n",
       "20  28779600   102.742485  0.462486  "
      ]
     },
     "execution_count": 254,
     "metadata": {},
     "output_type": "execute_result"
    }
   ],
   "source": [
    "test_df['Predictions'] = pred\n",
    "test_df['Error'] = test_df['Predictions'] - test_df['Open'] \n",
    "test_df"
   ]
  },
  {
   "cell_type": "code",
   "execution_count": 257,
   "id": "4dfc050e",
   "metadata": {},
   "outputs": [
    {
     "data": {
      "application/vnd.plotly.v1+json": {
       "config": {
        "plotlyServerURL": "https://plot.ly"
       },
       "data": [
        {
         "hovertemplate": "variable=Open<br>Date=%{x}<br>value=%{y}<extra></extra>",
         "legendgroup": "Open",
         "line": {
          "color": "#636efa",
          "dash": "solid"
         },
         "marker": {
          "symbol": "circle"
         },
         "mode": "lines",
         "name": "Open",
         "orientation": "v",
         "showlegend": true,
         "type": "scatter",
         "x": [
          "2023-03-01T00:00:00-05:00",
          "2023-03-02T00:00:00-05:00",
          "2023-03-03T00:00:00-05:00",
          "2023-03-06T00:00:00-05:00",
          "2023-03-07T00:00:00-05:00",
          "2023-03-08T00:00:00-05:00",
          "2023-03-09T00:00:00-05:00",
          "2023-03-10T00:00:00-05:00",
          "2023-03-13T00:00:00-04:00",
          "2023-03-14T00:00:00-04:00",
          "2023-03-15T00:00:00-04:00",
          "2023-03-16T00:00:00-04:00",
          "2023-03-17T00:00:00-04:00",
          "2023-03-20T00:00:00-04:00",
          "2023-03-21T00:00:00-04:00",
          "2023-03-22T00:00:00-04:00",
          "2023-03-23T00:00:00-04:00",
          "2023-03-24T00:00:00-04:00",
          "2023-03-27T00:00:00-04:00",
          "2023-03-28T00:00:00-04:00",
          "2023-03-29T00:00:00-04:00"
         ],
         "xaxis": "x",
         "y": [
          89.9800033569336,
          89.66000366210938,
          92.4800033569336,
          94.0199966430664,
          94.9800033569336,
          94.12000274658203,
          94.05000305175781,
          92.16999816894531,
          90.08999633789062,
          92.55999755859375,
          93.22000122070312,
          96.19999694824219,
          100.26000213623047,
          100.12000274658203,
          101.25,
          104.2699966430664,
          105.05999755859375,
          104.98999786376953,
          104.62000274658203,
          102.44000244140625,
          102.27999877929688
         ],
         "yaxis": "y"
        },
        {
         "hovertemplate": "variable=Predictions<br>Date=%{x}<br>value=%{y}<extra></extra>",
         "legendgroup": "Predictions",
         "line": {
          "color": "#EF553B",
          "dash": "solid"
         },
         "marker": {
          "symbol": "circle"
         },
         "mode": "lines",
         "name": "Predictions",
         "orientation": "v",
         "showlegend": true,
         "type": "scatter",
         "x": [
          "2023-03-01T00:00:00-05:00",
          "2023-03-02T00:00:00-05:00",
          "2023-03-03T00:00:00-05:00",
          "2023-03-06T00:00:00-05:00",
          "2023-03-07T00:00:00-05:00",
          "2023-03-08T00:00:00-05:00",
          "2023-03-09T00:00:00-05:00",
          "2023-03-10T00:00:00-05:00",
          "2023-03-13T00:00:00-04:00",
          "2023-03-14T00:00:00-04:00",
          "2023-03-15T00:00:00-04:00",
          "2023-03-16T00:00:00-04:00",
          "2023-03-17T00:00:00-04:00",
          "2023-03-20T00:00:00-04:00",
          "2023-03-21T00:00:00-04:00",
          "2023-03-22T00:00:00-04:00",
          "2023-03-23T00:00:00-04:00",
          "2023-03-24T00:00:00-04:00",
          "2023-03-27T00:00:00-04:00",
          "2023-03-28T00:00:00-04:00",
          "2023-03-29T00:00:00-04:00"
         ],
         "xaxis": "x",
         "y": [
          91.0644760131836,
          92.33783721923828,
          93.81559753417969,
          96.0992202758789,
          95.79334259033203,
          96.08902740478516,
          95.65060424804688,
          92.8575210571289,
          92.63334655761719,
          94.4577865600586,
          97.07794952392578,
          101.41913604736328,
          103.09860229492188,
          101.98930358886719,
          105.39615631103516,
          106.90864562988281,
          106.61442565917969,
          105.79222106933594,
          105.0507583618164,
          102.7017822265625,
          102.74248504638672
         ],
         "yaxis": "y"
        }
       ],
       "layout": {
        "legend": {
         "title": {
          "text": "variable"
         },
         "tracegroupgap": 0
        },
        "margin": {
         "t": 60
        },
        "template": {
         "data": {
          "bar": [
           {
            "error_x": {
             "color": "#2a3f5f"
            },
            "error_y": {
             "color": "#2a3f5f"
            },
            "marker": {
             "line": {
              "color": "#E5ECF6",
              "width": 0.5
             },
             "pattern": {
              "fillmode": "overlay",
              "size": 10,
              "solidity": 0.2
             }
            },
            "type": "bar"
           }
          ],
          "barpolar": [
           {
            "marker": {
             "line": {
              "color": "#E5ECF6",
              "width": 0.5
             },
             "pattern": {
              "fillmode": "overlay",
              "size": 10,
              "solidity": 0.2
             }
            },
            "type": "barpolar"
           }
          ],
          "carpet": [
           {
            "aaxis": {
             "endlinecolor": "#2a3f5f",
             "gridcolor": "white",
             "linecolor": "white",
             "minorgridcolor": "white",
             "startlinecolor": "#2a3f5f"
            },
            "baxis": {
             "endlinecolor": "#2a3f5f",
             "gridcolor": "white",
             "linecolor": "white",
             "minorgridcolor": "white",
             "startlinecolor": "#2a3f5f"
            },
            "type": "carpet"
           }
          ],
          "choropleth": [
           {
            "colorbar": {
             "outlinewidth": 0,
             "ticks": ""
            },
            "type": "choropleth"
           }
          ],
          "contour": [
           {
            "colorbar": {
             "outlinewidth": 0,
             "ticks": ""
            },
            "colorscale": [
             [
              0,
              "#0d0887"
             ],
             [
              0.1111111111111111,
              "#46039f"
             ],
             [
              0.2222222222222222,
              "#7201a8"
             ],
             [
              0.3333333333333333,
              "#9c179e"
             ],
             [
              0.4444444444444444,
              "#bd3786"
             ],
             [
              0.5555555555555556,
              "#d8576b"
             ],
             [
              0.6666666666666666,
              "#ed7953"
             ],
             [
              0.7777777777777778,
              "#fb9f3a"
             ],
             [
              0.8888888888888888,
              "#fdca26"
             ],
             [
              1,
              "#f0f921"
             ]
            ],
            "type": "contour"
           }
          ],
          "contourcarpet": [
           {
            "colorbar": {
             "outlinewidth": 0,
             "ticks": ""
            },
            "type": "contourcarpet"
           }
          ],
          "heatmap": [
           {
            "colorbar": {
             "outlinewidth": 0,
             "ticks": ""
            },
            "colorscale": [
             [
              0,
              "#0d0887"
             ],
             [
              0.1111111111111111,
              "#46039f"
             ],
             [
              0.2222222222222222,
              "#7201a8"
             ],
             [
              0.3333333333333333,
              "#9c179e"
             ],
             [
              0.4444444444444444,
              "#bd3786"
             ],
             [
              0.5555555555555556,
              "#d8576b"
             ],
             [
              0.6666666666666666,
              "#ed7953"
             ],
             [
              0.7777777777777778,
              "#fb9f3a"
             ],
             [
              0.8888888888888888,
              "#fdca26"
             ],
             [
              1,
              "#f0f921"
             ]
            ],
            "type": "heatmap"
           }
          ],
          "heatmapgl": [
           {
            "colorbar": {
             "outlinewidth": 0,
             "ticks": ""
            },
            "colorscale": [
             [
              0,
              "#0d0887"
             ],
             [
              0.1111111111111111,
              "#46039f"
             ],
             [
              0.2222222222222222,
              "#7201a8"
             ],
             [
              0.3333333333333333,
              "#9c179e"
             ],
             [
              0.4444444444444444,
              "#bd3786"
             ],
             [
              0.5555555555555556,
              "#d8576b"
             ],
             [
              0.6666666666666666,
              "#ed7953"
             ],
             [
              0.7777777777777778,
              "#fb9f3a"
             ],
             [
              0.8888888888888888,
              "#fdca26"
             ],
             [
              1,
              "#f0f921"
             ]
            ],
            "type": "heatmapgl"
           }
          ],
          "histogram": [
           {
            "marker": {
             "pattern": {
              "fillmode": "overlay",
              "size": 10,
              "solidity": 0.2
             }
            },
            "type": "histogram"
           }
          ],
          "histogram2d": [
           {
            "colorbar": {
             "outlinewidth": 0,
             "ticks": ""
            },
            "colorscale": [
             [
              0,
              "#0d0887"
             ],
             [
              0.1111111111111111,
              "#46039f"
             ],
             [
              0.2222222222222222,
              "#7201a8"
             ],
             [
              0.3333333333333333,
              "#9c179e"
             ],
             [
              0.4444444444444444,
              "#bd3786"
             ],
             [
              0.5555555555555556,
              "#d8576b"
             ],
             [
              0.6666666666666666,
              "#ed7953"
             ],
             [
              0.7777777777777778,
              "#fb9f3a"
             ],
             [
              0.8888888888888888,
              "#fdca26"
             ],
             [
              1,
              "#f0f921"
             ]
            ],
            "type": "histogram2d"
           }
          ],
          "histogram2dcontour": [
           {
            "colorbar": {
             "outlinewidth": 0,
             "ticks": ""
            },
            "colorscale": [
             [
              0,
              "#0d0887"
             ],
             [
              0.1111111111111111,
              "#46039f"
             ],
             [
              0.2222222222222222,
              "#7201a8"
             ],
             [
              0.3333333333333333,
              "#9c179e"
             ],
             [
              0.4444444444444444,
              "#bd3786"
             ],
             [
              0.5555555555555556,
              "#d8576b"
             ],
             [
              0.6666666666666666,
              "#ed7953"
             ],
             [
              0.7777777777777778,
              "#fb9f3a"
             ],
             [
              0.8888888888888888,
              "#fdca26"
             ],
             [
              1,
              "#f0f921"
             ]
            ],
            "type": "histogram2dcontour"
           }
          ],
          "mesh3d": [
           {
            "colorbar": {
             "outlinewidth": 0,
             "ticks": ""
            },
            "type": "mesh3d"
           }
          ],
          "parcoords": [
           {
            "line": {
             "colorbar": {
              "outlinewidth": 0,
              "ticks": ""
             }
            },
            "type": "parcoords"
           }
          ],
          "pie": [
           {
            "automargin": true,
            "type": "pie"
           }
          ],
          "scatter": [
           {
            "fillpattern": {
             "fillmode": "overlay",
             "size": 10,
             "solidity": 0.2
            },
            "type": "scatter"
           }
          ],
          "scatter3d": [
           {
            "line": {
             "colorbar": {
              "outlinewidth": 0,
              "ticks": ""
             }
            },
            "marker": {
             "colorbar": {
              "outlinewidth": 0,
              "ticks": ""
             }
            },
            "type": "scatter3d"
           }
          ],
          "scattercarpet": [
           {
            "marker": {
             "colorbar": {
              "outlinewidth": 0,
              "ticks": ""
             }
            },
            "type": "scattercarpet"
           }
          ],
          "scattergeo": [
           {
            "marker": {
             "colorbar": {
              "outlinewidth": 0,
              "ticks": ""
             }
            },
            "type": "scattergeo"
           }
          ],
          "scattergl": [
           {
            "marker": {
             "colorbar": {
              "outlinewidth": 0,
              "ticks": ""
             }
            },
            "type": "scattergl"
           }
          ],
          "scattermapbox": [
           {
            "marker": {
             "colorbar": {
              "outlinewidth": 0,
              "ticks": ""
             }
            },
            "type": "scattermapbox"
           }
          ],
          "scatterpolar": [
           {
            "marker": {
             "colorbar": {
              "outlinewidth": 0,
              "ticks": ""
             }
            },
            "type": "scatterpolar"
           }
          ],
          "scatterpolargl": [
           {
            "marker": {
             "colorbar": {
              "outlinewidth": 0,
              "ticks": ""
             }
            },
            "type": "scatterpolargl"
           }
          ],
          "scatterternary": [
           {
            "marker": {
             "colorbar": {
              "outlinewidth": 0,
              "ticks": ""
             }
            },
            "type": "scatterternary"
           }
          ],
          "surface": [
           {
            "colorbar": {
             "outlinewidth": 0,
             "ticks": ""
            },
            "colorscale": [
             [
              0,
              "#0d0887"
             ],
             [
              0.1111111111111111,
              "#46039f"
             ],
             [
              0.2222222222222222,
              "#7201a8"
             ],
             [
              0.3333333333333333,
              "#9c179e"
             ],
             [
              0.4444444444444444,
              "#bd3786"
             ],
             [
              0.5555555555555556,
              "#d8576b"
             ],
             [
              0.6666666666666666,
              "#ed7953"
             ],
             [
              0.7777777777777778,
              "#fb9f3a"
             ],
             [
              0.8888888888888888,
              "#fdca26"
             ],
             [
              1,
              "#f0f921"
             ]
            ],
            "type": "surface"
           }
          ],
          "table": [
           {
            "cells": {
             "fill": {
              "color": "#EBF0F8"
             },
             "line": {
              "color": "white"
             }
            },
            "header": {
             "fill": {
              "color": "#C8D4E3"
             },
             "line": {
              "color": "white"
             }
            },
            "type": "table"
           }
          ]
         },
         "layout": {
          "annotationdefaults": {
           "arrowcolor": "#2a3f5f",
           "arrowhead": 0,
           "arrowwidth": 1
          },
          "autotypenumbers": "strict",
          "coloraxis": {
           "colorbar": {
            "outlinewidth": 0,
            "ticks": ""
           }
          },
          "colorscale": {
           "diverging": [
            [
             0,
             "#8e0152"
            ],
            [
             0.1,
             "#c51b7d"
            ],
            [
             0.2,
             "#de77ae"
            ],
            [
             0.3,
             "#f1b6da"
            ],
            [
             0.4,
             "#fde0ef"
            ],
            [
             0.5,
             "#f7f7f7"
            ],
            [
             0.6,
             "#e6f5d0"
            ],
            [
             0.7,
             "#b8e186"
            ],
            [
             0.8,
             "#7fbc41"
            ],
            [
             0.9,
             "#4d9221"
            ],
            [
             1,
             "#276419"
            ]
           ],
           "sequential": [
            [
             0,
             "#0d0887"
            ],
            [
             0.1111111111111111,
             "#46039f"
            ],
            [
             0.2222222222222222,
             "#7201a8"
            ],
            [
             0.3333333333333333,
             "#9c179e"
            ],
            [
             0.4444444444444444,
             "#bd3786"
            ],
            [
             0.5555555555555556,
             "#d8576b"
            ],
            [
             0.6666666666666666,
             "#ed7953"
            ],
            [
             0.7777777777777778,
             "#fb9f3a"
            ],
            [
             0.8888888888888888,
             "#fdca26"
            ],
            [
             1,
             "#f0f921"
            ]
           ],
           "sequentialminus": [
            [
             0,
             "#0d0887"
            ],
            [
             0.1111111111111111,
             "#46039f"
            ],
            [
             0.2222222222222222,
             "#7201a8"
            ],
            [
             0.3333333333333333,
             "#9c179e"
            ],
            [
             0.4444444444444444,
             "#bd3786"
            ],
            [
             0.5555555555555556,
             "#d8576b"
            ],
            [
             0.6666666666666666,
             "#ed7953"
            ],
            [
             0.7777777777777778,
             "#fb9f3a"
            ],
            [
             0.8888888888888888,
             "#fdca26"
            ],
            [
             1,
             "#f0f921"
            ]
           ]
          },
          "colorway": [
           "#636efa",
           "#EF553B",
           "#00cc96",
           "#ab63fa",
           "#FFA15A",
           "#19d3f3",
           "#FF6692",
           "#B6E880",
           "#FF97FF",
           "#FECB52"
          ],
          "font": {
           "color": "#2a3f5f"
          },
          "geo": {
           "bgcolor": "white",
           "lakecolor": "white",
           "landcolor": "#E5ECF6",
           "showlakes": true,
           "showland": true,
           "subunitcolor": "white"
          },
          "hoverlabel": {
           "align": "left"
          },
          "hovermode": "closest",
          "mapbox": {
           "style": "light"
          },
          "paper_bgcolor": "white",
          "plot_bgcolor": "#E5ECF6",
          "polar": {
           "angularaxis": {
            "gridcolor": "white",
            "linecolor": "white",
            "ticks": ""
           },
           "bgcolor": "#E5ECF6",
           "radialaxis": {
            "gridcolor": "white",
            "linecolor": "white",
            "ticks": ""
           }
          },
          "scene": {
           "xaxis": {
            "backgroundcolor": "#E5ECF6",
            "gridcolor": "white",
            "gridwidth": 2,
            "linecolor": "white",
            "showbackground": true,
            "ticks": "",
            "zerolinecolor": "white"
           },
           "yaxis": {
            "backgroundcolor": "#E5ECF6",
            "gridcolor": "white",
            "gridwidth": 2,
            "linecolor": "white",
            "showbackground": true,
            "ticks": "",
            "zerolinecolor": "white"
           },
           "zaxis": {
            "backgroundcolor": "#E5ECF6",
            "gridcolor": "white",
            "gridwidth": 2,
            "linecolor": "white",
            "showbackground": true,
            "ticks": "",
            "zerolinecolor": "white"
           }
          },
          "shapedefaults": {
           "line": {
            "color": "#2a3f5f"
           }
          },
          "ternary": {
           "aaxis": {
            "gridcolor": "white",
            "linecolor": "white",
            "ticks": ""
           },
           "baxis": {
            "gridcolor": "white",
            "linecolor": "white",
            "ticks": ""
           },
           "bgcolor": "#E5ECF6",
           "caxis": {
            "gridcolor": "white",
            "linecolor": "white",
            "ticks": ""
           }
          },
          "title": {
           "x": 0.05
          },
          "xaxis": {
           "automargin": true,
           "gridcolor": "white",
           "linecolor": "white",
           "ticks": "",
           "title": {
            "standoff": 15
           },
           "zerolinecolor": "white",
           "zerolinewidth": 2
          },
          "yaxis": {
           "automargin": true,
           "gridcolor": "white",
           "linecolor": "white",
           "ticks": "",
           "title": {
            "standoff": 15
           },
           "zerolinecolor": "white",
           "zerolinewidth": 2
          }
         }
        },
        "xaxis": {
         "anchor": "y",
         "domain": [
          0,
          1
         ],
         "title": {
          "text": "Date"
         }
        },
        "yaxis": {
         "anchor": "x",
         "domain": [
          0,
          1
         ],
         "title": {
          "text": "value"
         }
        }
       }
      },
      "text/html": [
       "<div>                            <div id=\"06e27a09-6ede-46f4-9706-bd9db61c5e27\" class=\"plotly-graph-div\" style=\"height:525px; width:100%;\"></div>            <script type=\"text/javascript\">                require([\"plotly\"], function(Plotly) {                    window.PLOTLYENV=window.PLOTLYENV || {};                                    if (document.getElementById(\"06e27a09-6ede-46f4-9706-bd9db61c5e27\")) {                    Plotly.newPlot(                        \"06e27a09-6ede-46f4-9706-bd9db61c5e27\",                        [{\"hovertemplate\":\"variable=Open<br>Date=%{x}<br>value=%{y}<extra></extra>\",\"legendgroup\":\"Open\",\"line\":{\"color\":\"#636efa\",\"dash\":\"solid\"},\"marker\":{\"symbol\":\"circle\"},\"mode\":\"lines\",\"name\":\"Open\",\"orientation\":\"v\",\"showlegend\":true,\"x\":[\"2023-03-01T00:00:00-05:00\",\"2023-03-02T00:00:00-05:00\",\"2023-03-03T00:00:00-05:00\",\"2023-03-06T00:00:00-05:00\",\"2023-03-07T00:00:00-05:00\",\"2023-03-08T00:00:00-05:00\",\"2023-03-09T00:00:00-05:00\",\"2023-03-10T00:00:00-05:00\",\"2023-03-13T00:00:00-04:00\",\"2023-03-14T00:00:00-04:00\",\"2023-03-15T00:00:00-04:00\",\"2023-03-16T00:00:00-04:00\",\"2023-03-17T00:00:00-04:00\",\"2023-03-20T00:00:00-04:00\",\"2023-03-21T00:00:00-04:00\",\"2023-03-22T00:00:00-04:00\",\"2023-03-23T00:00:00-04:00\",\"2023-03-24T00:00:00-04:00\",\"2023-03-27T00:00:00-04:00\",\"2023-03-28T00:00:00-04:00\",\"2023-03-29T00:00:00-04:00\"],\"xaxis\":\"x\",\"y\":[89.9800033569336,89.66000366210938,92.4800033569336,94.0199966430664,94.9800033569336,94.12000274658203,94.05000305175781,92.16999816894531,90.08999633789062,92.55999755859375,93.22000122070312,96.19999694824219,100.26000213623047,100.12000274658203,101.25,104.2699966430664,105.05999755859375,104.98999786376953,104.62000274658203,102.44000244140625,102.27999877929688],\"yaxis\":\"y\",\"type\":\"scatter\"},{\"hovertemplate\":\"variable=Predictions<br>Date=%{x}<br>value=%{y}<extra></extra>\",\"legendgroup\":\"Predictions\",\"line\":{\"color\":\"#EF553B\",\"dash\":\"solid\"},\"marker\":{\"symbol\":\"circle\"},\"mode\":\"lines\",\"name\":\"Predictions\",\"orientation\":\"v\",\"showlegend\":true,\"x\":[\"2023-03-01T00:00:00-05:00\",\"2023-03-02T00:00:00-05:00\",\"2023-03-03T00:00:00-05:00\",\"2023-03-06T00:00:00-05:00\",\"2023-03-07T00:00:00-05:00\",\"2023-03-08T00:00:00-05:00\",\"2023-03-09T00:00:00-05:00\",\"2023-03-10T00:00:00-05:00\",\"2023-03-13T00:00:00-04:00\",\"2023-03-14T00:00:00-04:00\",\"2023-03-15T00:00:00-04:00\",\"2023-03-16T00:00:00-04:00\",\"2023-03-17T00:00:00-04:00\",\"2023-03-20T00:00:00-04:00\",\"2023-03-21T00:00:00-04:00\",\"2023-03-22T00:00:00-04:00\",\"2023-03-23T00:00:00-04:00\",\"2023-03-24T00:00:00-04:00\",\"2023-03-27T00:00:00-04:00\",\"2023-03-28T00:00:00-04:00\",\"2023-03-29T00:00:00-04:00\"],\"xaxis\":\"x\",\"y\":[91.0644760131836,92.33783721923828,93.81559753417969,96.0992202758789,95.79334259033203,96.08902740478516,95.65060424804688,92.8575210571289,92.63334655761719,94.4577865600586,97.07794952392578,101.41913604736328,103.09860229492188,101.98930358886719,105.39615631103516,106.90864562988281,106.61442565917969,105.79222106933594,105.0507583618164,102.7017822265625,102.74248504638672],\"yaxis\":\"y\",\"type\":\"scatter\"}],                        {\"template\":{\"data\":{\"histogram2dcontour\":[{\"type\":\"histogram2dcontour\",\"colorbar\":{\"outlinewidth\":0,\"ticks\":\"\"},\"colorscale\":[[0.0,\"#0d0887\"],[0.1111111111111111,\"#46039f\"],[0.2222222222222222,\"#7201a8\"],[0.3333333333333333,\"#9c179e\"],[0.4444444444444444,\"#bd3786\"],[0.5555555555555556,\"#d8576b\"],[0.6666666666666666,\"#ed7953\"],[0.7777777777777778,\"#fb9f3a\"],[0.8888888888888888,\"#fdca26\"],[1.0,\"#f0f921\"]]}],\"choropleth\":[{\"type\":\"choropleth\",\"colorbar\":{\"outlinewidth\":0,\"ticks\":\"\"}}],\"histogram2d\":[{\"type\":\"histogram2d\",\"colorbar\":{\"outlinewidth\":0,\"ticks\":\"\"},\"colorscale\":[[0.0,\"#0d0887\"],[0.1111111111111111,\"#46039f\"],[0.2222222222222222,\"#7201a8\"],[0.3333333333333333,\"#9c179e\"],[0.4444444444444444,\"#bd3786\"],[0.5555555555555556,\"#d8576b\"],[0.6666666666666666,\"#ed7953\"],[0.7777777777777778,\"#fb9f3a\"],[0.8888888888888888,\"#fdca26\"],[1.0,\"#f0f921\"]]}],\"heatmap\":[{\"type\":\"heatmap\",\"colorbar\":{\"outlinewidth\":0,\"ticks\":\"\"},\"colorscale\":[[0.0,\"#0d0887\"],[0.1111111111111111,\"#46039f\"],[0.2222222222222222,\"#7201a8\"],[0.3333333333333333,\"#9c179e\"],[0.4444444444444444,\"#bd3786\"],[0.5555555555555556,\"#d8576b\"],[0.6666666666666666,\"#ed7953\"],[0.7777777777777778,\"#fb9f3a\"],[0.8888888888888888,\"#fdca26\"],[1.0,\"#f0f921\"]]}],\"heatmapgl\":[{\"type\":\"heatmapgl\",\"colorbar\":{\"outlinewidth\":0,\"ticks\":\"\"},\"colorscale\":[[0.0,\"#0d0887\"],[0.1111111111111111,\"#46039f\"],[0.2222222222222222,\"#7201a8\"],[0.3333333333333333,\"#9c179e\"],[0.4444444444444444,\"#bd3786\"],[0.5555555555555556,\"#d8576b\"],[0.6666666666666666,\"#ed7953\"],[0.7777777777777778,\"#fb9f3a\"],[0.8888888888888888,\"#fdca26\"],[1.0,\"#f0f921\"]]}],\"contourcarpet\":[{\"type\":\"contourcarpet\",\"colorbar\":{\"outlinewidth\":0,\"ticks\":\"\"}}],\"contour\":[{\"type\":\"contour\",\"colorbar\":{\"outlinewidth\":0,\"ticks\":\"\"},\"colorscale\":[[0.0,\"#0d0887\"],[0.1111111111111111,\"#46039f\"],[0.2222222222222222,\"#7201a8\"],[0.3333333333333333,\"#9c179e\"],[0.4444444444444444,\"#bd3786\"],[0.5555555555555556,\"#d8576b\"],[0.6666666666666666,\"#ed7953\"],[0.7777777777777778,\"#fb9f3a\"],[0.8888888888888888,\"#fdca26\"],[1.0,\"#f0f921\"]]}],\"surface\":[{\"type\":\"surface\",\"colorbar\":{\"outlinewidth\":0,\"ticks\":\"\"},\"colorscale\":[[0.0,\"#0d0887\"],[0.1111111111111111,\"#46039f\"],[0.2222222222222222,\"#7201a8\"],[0.3333333333333333,\"#9c179e\"],[0.4444444444444444,\"#bd3786\"],[0.5555555555555556,\"#d8576b\"],[0.6666666666666666,\"#ed7953\"],[0.7777777777777778,\"#fb9f3a\"],[0.8888888888888888,\"#fdca26\"],[1.0,\"#f0f921\"]]}],\"mesh3d\":[{\"type\":\"mesh3d\",\"colorbar\":{\"outlinewidth\":0,\"ticks\":\"\"}}],\"scatter\":[{\"fillpattern\":{\"fillmode\":\"overlay\",\"size\":10,\"solidity\":0.2},\"type\":\"scatter\"}],\"parcoords\":[{\"type\":\"parcoords\",\"line\":{\"colorbar\":{\"outlinewidth\":0,\"ticks\":\"\"}}}],\"scatterpolargl\":[{\"type\":\"scatterpolargl\",\"marker\":{\"colorbar\":{\"outlinewidth\":0,\"ticks\":\"\"}}}],\"bar\":[{\"error_x\":{\"color\":\"#2a3f5f\"},\"error_y\":{\"color\":\"#2a3f5f\"},\"marker\":{\"line\":{\"color\":\"#E5ECF6\",\"width\":0.5},\"pattern\":{\"fillmode\":\"overlay\",\"size\":10,\"solidity\":0.2}},\"type\":\"bar\"}],\"scattergeo\":[{\"type\":\"scattergeo\",\"marker\":{\"colorbar\":{\"outlinewidth\":0,\"ticks\":\"\"}}}],\"scatterpolar\":[{\"type\":\"scatterpolar\",\"marker\":{\"colorbar\":{\"outlinewidth\":0,\"ticks\":\"\"}}}],\"histogram\":[{\"marker\":{\"pattern\":{\"fillmode\":\"overlay\",\"size\":10,\"solidity\":0.2}},\"type\":\"histogram\"}],\"scattergl\":[{\"type\":\"scattergl\",\"marker\":{\"colorbar\":{\"outlinewidth\":0,\"ticks\":\"\"}}}],\"scatter3d\":[{\"type\":\"scatter3d\",\"line\":{\"colorbar\":{\"outlinewidth\":0,\"ticks\":\"\"}},\"marker\":{\"colorbar\":{\"outlinewidth\":0,\"ticks\":\"\"}}}],\"scattermapbox\":[{\"type\":\"scattermapbox\",\"marker\":{\"colorbar\":{\"outlinewidth\":0,\"ticks\":\"\"}}}],\"scatterternary\":[{\"type\":\"scatterternary\",\"marker\":{\"colorbar\":{\"outlinewidth\":0,\"ticks\":\"\"}}}],\"scattercarpet\":[{\"type\":\"scattercarpet\",\"marker\":{\"colorbar\":{\"outlinewidth\":0,\"ticks\":\"\"}}}],\"carpet\":[{\"aaxis\":{\"endlinecolor\":\"#2a3f5f\",\"gridcolor\":\"white\",\"linecolor\":\"white\",\"minorgridcolor\":\"white\",\"startlinecolor\":\"#2a3f5f\"},\"baxis\":{\"endlinecolor\":\"#2a3f5f\",\"gridcolor\":\"white\",\"linecolor\":\"white\",\"minorgridcolor\":\"white\",\"startlinecolor\":\"#2a3f5f\"},\"type\":\"carpet\"}],\"table\":[{\"cells\":{\"fill\":{\"color\":\"#EBF0F8\"},\"line\":{\"color\":\"white\"}},\"header\":{\"fill\":{\"color\":\"#C8D4E3\"},\"line\":{\"color\":\"white\"}},\"type\":\"table\"}],\"barpolar\":[{\"marker\":{\"line\":{\"color\":\"#E5ECF6\",\"width\":0.5},\"pattern\":{\"fillmode\":\"overlay\",\"size\":10,\"solidity\":0.2}},\"type\":\"barpolar\"}],\"pie\":[{\"automargin\":true,\"type\":\"pie\"}]},\"layout\":{\"autotypenumbers\":\"strict\",\"colorway\":[\"#636efa\",\"#EF553B\",\"#00cc96\",\"#ab63fa\",\"#FFA15A\",\"#19d3f3\",\"#FF6692\",\"#B6E880\",\"#FF97FF\",\"#FECB52\"],\"font\":{\"color\":\"#2a3f5f\"},\"hovermode\":\"closest\",\"hoverlabel\":{\"align\":\"left\"},\"paper_bgcolor\":\"white\",\"plot_bgcolor\":\"#E5ECF6\",\"polar\":{\"bgcolor\":\"#E5ECF6\",\"angularaxis\":{\"gridcolor\":\"white\",\"linecolor\":\"white\",\"ticks\":\"\"},\"radialaxis\":{\"gridcolor\":\"white\",\"linecolor\":\"white\",\"ticks\":\"\"}},\"ternary\":{\"bgcolor\":\"#E5ECF6\",\"aaxis\":{\"gridcolor\":\"white\",\"linecolor\":\"white\",\"ticks\":\"\"},\"baxis\":{\"gridcolor\":\"white\",\"linecolor\":\"white\",\"ticks\":\"\"},\"caxis\":{\"gridcolor\":\"white\",\"linecolor\":\"white\",\"ticks\":\"\"}},\"coloraxis\":{\"colorbar\":{\"outlinewidth\":0,\"ticks\":\"\"}},\"colorscale\":{\"sequential\":[[0.0,\"#0d0887\"],[0.1111111111111111,\"#46039f\"],[0.2222222222222222,\"#7201a8\"],[0.3333333333333333,\"#9c179e\"],[0.4444444444444444,\"#bd3786\"],[0.5555555555555556,\"#d8576b\"],[0.6666666666666666,\"#ed7953\"],[0.7777777777777778,\"#fb9f3a\"],[0.8888888888888888,\"#fdca26\"],[1.0,\"#f0f921\"]],\"sequentialminus\":[[0.0,\"#0d0887\"],[0.1111111111111111,\"#46039f\"],[0.2222222222222222,\"#7201a8\"],[0.3333333333333333,\"#9c179e\"],[0.4444444444444444,\"#bd3786\"],[0.5555555555555556,\"#d8576b\"],[0.6666666666666666,\"#ed7953\"],[0.7777777777777778,\"#fb9f3a\"],[0.8888888888888888,\"#fdca26\"],[1.0,\"#f0f921\"]],\"diverging\":[[0,\"#8e0152\"],[0.1,\"#c51b7d\"],[0.2,\"#de77ae\"],[0.3,\"#f1b6da\"],[0.4,\"#fde0ef\"],[0.5,\"#f7f7f7\"],[0.6,\"#e6f5d0\"],[0.7,\"#b8e186\"],[0.8,\"#7fbc41\"],[0.9,\"#4d9221\"],[1,\"#276419\"]]},\"xaxis\":{\"gridcolor\":\"white\",\"linecolor\":\"white\",\"ticks\":\"\",\"title\":{\"standoff\":15},\"zerolinecolor\":\"white\",\"automargin\":true,\"zerolinewidth\":2},\"yaxis\":{\"gridcolor\":\"white\",\"linecolor\":\"white\",\"ticks\":\"\",\"title\":{\"standoff\":15},\"zerolinecolor\":\"white\",\"automargin\":true,\"zerolinewidth\":2},\"scene\":{\"xaxis\":{\"backgroundcolor\":\"#E5ECF6\",\"gridcolor\":\"white\",\"linecolor\":\"white\",\"showbackground\":true,\"ticks\":\"\",\"zerolinecolor\":\"white\",\"gridwidth\":2},\"yaxis\":{\"backgroundcolor\":\"#E5ECF6\",\"gridcolor\":\"white\",\"linecolor\":\"white\",\"showbackground\":true,\"ticks\":\"\",\"zerolinecolor\":\"white\",\"gridwidth\":2},\"zaxis\":{\"backgroundcolor\":\"#E5ECF6\",\"gridcolor\":\"white\",\"linecolor\":\"white\",\"showbackground\":true,\"ticks\":\"\",\"zerolinecolor\":\"white\",\"gridwidth\":2}},\"shapedefaults\":{\"line\":{\"color\":\"#2a3f5f\"}},\"annotationdefaults\":{\"arrowcolor\":\"#2a3f5f\",\"arrowhead\":0,\"arrowwidth\":1},\"geo\":{\"bgcolor\":\"white\",\"landcolor\":\"#E5ECF6\",\"subunitcolor\":\"white\",\"showland\":true,\"showlakes\":true,\"lakecolor\":\"white\"},\"title\":{\"x\":0.05},\"mapbox\":{\"style\":\"light\"}}},\"xaxis\":{\"anchor\":\"y\",\"domain\":[0.0,1.0],\"title\":{\"text\":\"Date\"}},\"yaxis\":{\"anchor\":\"x\",\"domain\":[0.0,1.0],\"title\":{\"text\":\"value\"}},\"legend\":{\"title\":{\"text\":\"variable\"},\"tracegroupgap\":0},\"margin\":{\"t\":60}},                        {\"responsive\": true}                    ).then(function(){\n",
       "                            \n",
       "var gd = document.getElementById('06e27a09-6ede-46f4-9706-bd9db61c5e27');\n",
       "var x = new MutationObserver(function (mutations, observer) {{\n",
       "        var display = window.getComputedStyle(gd).display;\n",
       "        if (!display || display === 'none') {{\n",
       "            console.log([gd, 'removed!']);\n",
       "            Plotly.purge(gd);\n",
       "            observer.disconnect();\n",
       "        }}\n",
       "}});\n",
       "\n",
       "// Listen for the removal of the full notebook cells\n",
       "var notebookContainer = gd.closest('#notebook-container');\n",
       "if (notebookContainer) {{\n",
       "    x.observe(notebookContainer, {childList: true});\n",
       "}}\n",
       "\n",
       "// Listen for the clearing of the current output cell\n",
       "var outputEl = gd.closest('.output');\n",
       "if (outputEl) {{\n",
       "    x.observe(outputEl, {childList: true});\n",
       "}}\n",
       "\n",
       "                        })                };                });            </script>        </div>"
      ]
     },
     "metadata": {},
     "output_type": "display_data"
    }
   ],
   "source": [
    "pd.options.plotting.backend = 'plotly'\n",
    "test_df.plot(x = \"Date\",y = ['Open','Predictions'])"
   ]
  },
  {
   "attachments": {},
   "cell_type": "markdown",
   "id": "dbdff5d4",
   "metadata": {},
   "source": [
    "One cell"
   ]
  },
  {
   "cell_type": "code",
   "execution_count": null,
   "id": "ee62415c",
   "metadata": {},
   "outputs": [],
   "source": [
    "import pandas as pd\n",
    "import yfinance as yh\n",
    "import datetime as dt\n",
    "import streamlit as st\n",
    "import sklearn\n",
    "import matplotlib.pyplot as plt\n",
    "from sklearn.preprocessing import MinMaxScaler\n",
    "import numpy as np\n",
    "from keras.models import Sequential\n",
    "from keras.layers import Dense\n",
    "from keras.layers import LSTM\n",
    "\n",
    "\n",
    "today = dt.datetime.now()\n",
    "end = dt.datetime(2023, 2, 28, 0, 0, 0)  # dt.datetime.date(2022,3,30)\n",
    "start = end - dt.timedelta(days=(4 * 365))\n",
    "\n",
    "Google_df = yh.Ticker(\"GOOGL\").history(start=start, end=end)\n",
    "Google_df = Google_df.iloc[:, :-2]\n",
    "st.write(Google_df)\n",
    "st.write(\n",
    "    \"We chose our target variable to be the 'Opening Price', represented by the column 'Open'\"\n",
    ")\n",
    "training_set = Google_df.iloc[:, 1:2].values\n",
    "sc = MinMaxScaler()\n",
    "\n",
    "\n",
    "st.write(\n",
    "    \"\"\"\n",
    "Prediction Variable:\n",
    "\n",
    "Open stock prices (at a time t) will be our input value. The future open stock price ( future time t+1) would be our output, which would be the open value of the succeeding day of t ( i.e t+1).\n",
    "\"\"\"\n",
    ")\n",
    "\n",
    "training_set = sc.fit_transform(training_set)\n",
    "\n",
    "X_train = training_set[0:1005]\n",
    "y_train = training_set[1:1006]\n",
    "np.reshape(X_train, (1005, 1, 1))\n",
    "\n",
    "regressor = Sequential()\n",
    "\n",
    "regressor.add(LSTM(units=4, activation=\"sigmoid\", input_shape=(None, 1)))\n",
    "regressor.add(Dense(1))\n",
    "\n",
    "regressor.compile(loss=\"mean_squared_error\", optimizer=\"adam\")\n",
    "regressor.summary()\n",
    "\n",
    "regressor.fit(X_train, y_train, batch_size=32, epochs=200)\n",
    "\n",
    "end = dt.datetime.now()\n",
    "test_start = end - dt.timedelta(days=30)\n",
    "\n",
    "test_df = yh.Ticker(\"GOOGL\").history(start=test_start, end=end)\n",
    "test_df = test_df.iloc[:, :-2]\n",
    "test_set = test_df.iloc[:-1, 1:2].values\n",
    "len(test_set)\n",
    "test_inputs = sc.transform(test_set)\n",
    "test_inputs = np.reshape(test_inputs, (21, 1, 1))\n",
    "\n",
    "predicted_price = regressor.predict(test_inputs)\n",
    "predicted_price = sc.inverse_transform(predicted_price)\n",
    "len(predicted_price)\n",
    "\n",
    "\n",
    "plt.plot(test_set, color=\"blue\", label=\"Real Observed Price\")\n",
    "plt.plot(predicted_price, color=\"red\", label=\"Predicted Price\")\n",
    "\n",
    "plt.xlabel(\"Time\")\n",
    "plt.ylabel(\"Google Stocks Opening Price\")\n",
    "plt.show\n",
    "\n",
    "\n",
    "pred = pd.to_numeric((pd.Series(np.ravel(predicted_price))))\n",
    "test_df = test_df.reset_index()\n",
    "\n",
    "\n",
    "test_df[\"Predictions\"] = pred\n",
    "test_df[\"Error\"] = test_df[\"Predictions\"] - test_df[\"Open\"]\n",
    "test_df\n",
    "\n",
    "\n",
    "pd.options.plotting.backend = \"plotly\"\n",
    "test_df.plot(x=\"Date\", y=[\"Open\", \"Predictions\"])\n"
   ]
  }
 ],
 "metadata": {
  "kernelspec": {
   "display_name": "Python 3 (ipykernel)",
   "language": "python",
   "name": "python3"
  },
  "language_info": {
   "codemirror_mode": {
    "name": "ipython",
    "version": 3
   },
   "file_extension": ".py",
   "mimetype": "text/x-python",
   "name": "python",
   "nbconvert_exporter": "python",
   "pygments_lexer": "ipython3",
   "version": "3.9.13"
  }
 },
 "nbformat": 4,
 "nbformat_minor": 5
}
