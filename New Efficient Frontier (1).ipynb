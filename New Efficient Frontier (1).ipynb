{
 "cells": [
  {
   "cell_type": "code",
   "execution_count": 67,
   "id": "57c8b7ff",
   "metadata": {},
   "outputs": [],
   "source": [
    "import numpy as np\n",
    "import pandas as pd\n",
    "from pandas_datareader import data as pdr\n",
    "import datetime as dt\n",
    "import yfinance as yfin\n",
    "import scipy.optimize as sc\n",
    "import plotly.graph_objects as go\n",
    "import matplotlib.pyplot as plt\n",
    "yfin.pdr_override()"
   ]
  },
  {
   "cell_type": "code",
   "execution_count": 68,
   "id": "79e67364",
   "metadata": {},
   "outputs": [],
   "source": [
    "def getData(stocks,start,end):\n",
    "    stockData = pdr.get_data_yahoo(stocks, start = start, end = end)\n",
    "    stockData = stockData[\"Close\"]\n",
    "    \n",
    "    return stockData.pct_change()\n",
    "    "
   ]
  },
  {
   "cell_type": "code",
   "execution_count": 87,
   "id": "54e560ca",
   "metadata": {},
   "outputs": [],
   "source": [
    "stock_list = (\"AAPL\",\"AMZN\",\"GOOGL\",\"META\") ## INPUT DEESIRED STOCKS IN PORTFOLIO\n",
    "endDate = dt.datetime.now() ## GET REQUIRED DATE RANGE\n",
    "startDate = endDate - dt.timedelta(days = 365)"
   ]
  },
  {
   "cell_type": "code",
   "execution_count": 88,
   "id": "9ddc0316",
   "metadata": {},
   "outputs": [
    {
     "name": "stdout",
     "output_type": "stream",
     "text": [
      "[*********************100%***********************]  4 of 4 completed\n"
     ]
    }
   ],
   "source": [
    "pctChange = getData(stock_list,startDate, endDate)\n",
    "\n",
    "## MEAN PERCENT CHANGE = MEAN OF RETURNS\n",
    "mean_returns = pctChange.mean()\n",
    "\n",
    "## COVARIANCE OF PERCENT CHANGE ACROSS STOCKS IN PORTFOLIO\n",
    "cov_matrix = pctChange.cov()\n"
   ]
  },
  {
   "cell_type": "code",
   "execution_count": null,
   "id": "dadbfa88",
   "metadata": {},
   "outputs": [],
   "source": []
  },
  {
   "cell_type": "code",
   "execution_count": 89,
   "id": "2d712302",
   "metadata": {},
   "outputs": [],
   "source": [
    "def portfolioPerformance(weights, meanReturns, covMatrix):\n",
    "    returns = np.sum(meanReturns*weights)*252\n",
    "    std = np.sqrt(\n",
    "            np.dot(weights.T,np.dot(covMatrix, weights))\n",
    "           )*np.sqrt(252)\n",
    "    return returns, std"
   ]
  },
  {
   "attachments": {},
   "cell_type": "markdown",
   "id": "4e45b5aa",
   "metadata": {},
   "source": [
    "# GENERATING PORTFOLIOS WITH RANDOMIZED WEIGHTS"
   ]
  },
  {
   "cell_type": "code",
   "execution_count": 90,
   "id": "d4cd348c",
   "metadata": {},
   "outputs": [],
   "source": [
    "def random_portfolios(num_portfolios, mean_returns, cov_matrix, risk_free_rate):\n",
    "    results = np.zeros((3,num_portfolios))\n",
    "    weights_record = []\n",
    "    for i in range(num_portfolios):\n",
    "        weights = np.random.random(len(stock_list)) \n",
    "        weights /= np.sum(weights)\n",
    "        weights_record.append(weights)\n",
    "        portfolio_std_dev, portfolio_return = portfolioPerformance(weights, mean_returns, cov_matrix)\n",
    "        results[0,i] = portfolio_std_dev\n",
    "        results[1,i] = portfolio_return\n",
    "        results[2,i] = (portfolio_return - risk_free_rate) / portfolio_std_dev\n",
    "    return results, weights_record"
   ]
  },
  {
   "attachments": {},
   "cell_type": "markdown",
   "id": "d36ba096",
   "metadata": {},
   "source": [
    "# GRAPHING 2500 PORTFOLIOS"
   ]
  },
  {
   "cell_type": "code",
   "execution_count": 91,
   "id": "485743e3",
   "metadata": {},
   "outputs": [],
   "source": [
    "def display_simulated_ef_with_random(mean_returns, cov_matrix, num_portfolios, risk_free_rate):\n",
    "    results, weights = random_portfolios(25000,mean_returns, cov_matrix, 0.0178)\n",
    "    \n",
    "    max_sharpe_idx = np.argmax(results[2])\n",
    "    sdp, rp = results[0,max_sharpe_idx], results[1,max_sharpe_idx]\n",
    "    max_sharpe_allocation = pd.DataFrame(weights[max_sharpe_idx],index= pctChange.columns,columns=['allocation'])\n",
    "    max_sharpe_allocation.allocation = [round(i*100,2)for i in max_sharpe_allocation.allocation]\n",
    "    max_sharpe_allocation = max_sharpe_allocation.T\n",
    "    \n",
    "    min_vol_idx = np.argmin(results[0])\n",
    "    sdp_min, rp_min = results[0,min_vol_idx], results[1,min_vol_idx]\n",
    "    min_vol_allocation = pd.DataFrame(weights[min_vol_idx],index= pctChange.columns,columns=['allocation'])\n",
    "    min_vol_allocation.allocation = [round(i*100,2)for i in min_vol_allocation.allocation]\n",
    "    min_vol_allocation = min_vol_allocation.T\n",
    "    \n",
    "    print(\"-\"*80)\n",
    "    print(\"Maximum Sharpe Ratio Portfolio Allocation\\n\")\n",
    "    print(\"Annualised Return:\", round(rp,2))\n",
    "    print(\"Annualised Volatility:\", round(sdp,2))\n",
    "    print(\"\\n\")\n",
    "    print(max_sharpe_allocation)\n",
    "    print(\"-\"*80)\n",
    "    print(\"Minimum Volatility Portfolio Allocation\\n\")\n",
    "    print(\"Annualised Return:\", round(rp_min,2))\n",
    "    print(\"Annualised Volatility:\", round(sdp_min,2))\n",
    "    print(\"\\n\")\n",
    "    print(min_vol_allocation)\n",
    "    \n",
    "    plt.figure(figsize=(10, 7))\n",
    "    plt.scatter(results[0,:],results[1,:],c=results[2,:],cmap='YlGnBu', marker='o', s=10, alpha=0.3)\n",
    "    plt.colorbar()\n",
    "    plt.scatter(sdp,rp,marker='*',color='r',s=500, label='Maximum Sharpe ratio')\n",
    "    plt.scatter(sdp_min,rp_min,marker='*',color='g',s=500, label='Minimum volatility')\n",
    "    plt.title('Simulated Portfolio Optimization based on Efficient Frontier')\n",
    "    plt.xlabel('annualised volatility')\n",
    "    plt.ylabel('annualised returns')\n",
    "    plt.legend(labelspacing=0.8)"
   ]
  },
  {
   "cell_type": "code",
   "execution_count": 92,
   "id": "8fa04ef7",
   "metadata": {},
   "outputs": [
    {
     "name": "stdout",
     "output_type": "stream",
     "text": [
      "--------------------------------------------------------------------------------\n",
      "Maximum Sharpe Ratio Portfolio Allocation\n",
      "\n",
      "Annualised Return: 0.42\n",
      "Annualised Volatility: 0.1\n",
      "\n",
      "\n",
      "            AAPL   AMZN  GOOGL  META\n",
      "allocation  2.78  92.47   3.99  0.75\n",
      "--------------------------------------------------------------------------------\n",
      "Minimum Volatility Portfolio Allocation\n",
      "\n",
      "Annualised Return: 0.42\n",
      "Annualised Volatility: 0.1\n",
      "\n",
      "\n",
      "            AAPL   AMZN  GOOGL  META\n",
      "allocation  2.78  92.47   3.99  0.75\n"
     ]
    },
    {
     "data": {
      "image/png": "[encoded data removed]",
      "text/plain": [
       "<Figure size 1000x700 with 2 Axes>"
      ]
     },
     "metadata": {},
     "output_type": "display_data"
    }
   ],
   "source": [
    "display_simulated_ef_with_random(mean_returns, cov_matrix, 25000, 0.0178)"
   ]
  },
  {
   "attachments": {},
   "cell_type": "markdown",
   "id": "398c4881",
   "metadata": {},
   "source": [
    "# FINDING AND MAXIMIZING SHARPE RATIO"
   ]
  },
  {
   "cell_type": "code",
   "execution_count": 93,
   "id": "fddfdedf",
   "metadata": {},
   "outputs": [],
   "source": [
    "def negativeSR(weights, meanReturns, covMatrix, riskFreeRate = 0):\n",
    "    pReturns, pStd = portfolioPerformance(weights, meanReturns, covMatrix)\n",
    "    return - (pReturns - riskFreeRate)/pStd\n",
    "def maxSR(meanReturns, covMatrix, riskFreeRate = 0, constraintSet=(0.0,1.0)):\n",
    "    \"Minimize the negative SR, by altering the weights of the portfolio\"\n",
    "    numAssets = len(meanReturns)\n",
    "    args = (meanReturns, covMatrix, riskFreeRate)\n",
    "    constraints = ({'type': 'eq', 'fun': lambda x: np.sum(x) - 1})\n",
    "    bound = constraintSet\n",
    "    bounds = tuple(bound for asset in range(numAssets))\n",
    "    result = sc.minimize(negativeSR, numAssets*[1./numAssets], args=args,\n",
    "                        method='SLSQP', bounds=bounds, constraints=constraints)\n",
    "    return result"
   ]
  },
  {
   "attachments": {},
   "cell_type": "markdown",
   "id": "15424945",
   "metadata": {},
   "source": [
    "# FINDING AND MINIMIZING PORTFOLIO VARIANCE"
   ]
  },
  {
   "cell_type": "code",
   "execution_count": 94,
   "id": "49adb332",
   "metadata": {},
   "outputs": [],
   "source": [
    "def portfolioVariance(weights, meanReturns, covMatrix):\n",
    "    return portfolioPerformance(weights, meanReturns, covMatrix)[1]\n",
    "def minimizeVariance(meanReturns, covMatrix, constraintSet=(0,1)):\n",
    "    \"\"\"Minimize the portfolio variance by altering the \n",
    "     weights/allocation of assets in the portfolio\"\"\"\n",
    "    numAssets = len(meanReturns)\n",
    "    args = (meanReturns, covMatrix)\n",
    "    constraints = ({'type': 'eq', 'fun': lambda x: np.sum(x) - 1})\n",
    "    bound = constraintSet\n",
    "    bounds = tuple(bound for asset in range(numAssets))\n",
    "    result = sc.minimize(portfolioVariance, numAssets*[1./numAssets], args=args,\n",
    "                        method='SLSQP', bounds=bounds, constraints=constraints)\n",
    "    return result"
   ]
  },
  {
   "attachments": {},
   "cell_type": "markdown",
   "id": "2068c327",
   "metadata": {},
   "source": [
    "# CREATING EFFICIENT FRONTIER"
   ]
  },
  {
   "cell_type": "code",
   "execution_count": 95,
   "id": "c8cf98e9",
   "metadata": {},
   "outputs": [],
   "source": [
    "def portfolioReturn(weights, meanReturns, covMatrix):\n",
    "        return portfolioPerformance(weights, meanReturns, covMatrix)[0]\n",
    "def efficientOpt(meanReturns, covMatrix, returnTarget, constraintSet=(0,1)):\n",
    "    \"\"\"For each returnTarget, we want to optimise the portfolio for min variance\"\"\"\n",
    "    numAssets = len(meanReturns)\n",
    "    args = (meanReturns, covMatrix)\n",
    "    constraints = ({'type':'eq', 'fun': lambda x: portfolioReturn(x, meanReturns, covMatrix) - returnTarget},\n",
    "                    {'type': 'eq', 'fun': lambda x: np.sum(x) - 1})\n",
    "    bound = constraintSet\n",
    "    bounds = tuple(bound for asset in range(numAssets))\n",
    "    effOpt = sc.minimize(portfolioVariance, numAssets*[1./numAssets], args=args, method = 'SLSQP', bounds=bounds, constraints=constraints)\n",
    "    return effOpt"
   ]
  },
  {
   "cell_type": "code",
   "execution_count": 96,
   "id": "82c06521",
   "metadata": {},
   "outputs": [],
   "source": [
    "def calculatedResults(meanReturns, covMatrix, riskFreeRate=0, constraintSet=(0,1)):\n",
    "    \"\"\"Read in mean, cov matrix, and other financial information\n",
    "        Output, Max SR , Min Volatility, efficient frontier \"\"\"\n",
    "    # Max Sharpe Ratio Portfolio\n",
    "    maxSR_Portfolio = maxSR(meanReturns, covMatrix)\n",
    "    maxSR_returns, maxSR_std = portfolioPerformance(maxSR_Portfolio['x'], meanReturns, covMatrix)\n",
    "    maxSR_returns, maxSR_std = round(maxSR_returns*100,2), round(maxSR_std*100,2)\n",
    "    maxSR_allocation = pd.DataFrame(maxSR_Portfolio['x'], index=meanReturns.index, columns=['allocation'])\n",
    "    maxSR_allocation.allocation = [round(i*100,0) for i in maxSR_allocation.allocation]\n",
    "    \n",
    "    # Min Volatility Portfolio\n",
    "    minVol_Portfolio = minimizeVariance(meanReturns, covMatrix)\n",
    "    minVol_returns, minVol_std = portfolioPerformance(minVol_Portfolio['x'], meanReturns, covMatrix)\n",
    "    minVol_returns, minVol_std = round(minVol_returns*100,2), round(minVol_std*100,2)\n",
    "    minVol_allocation = pd.DataFrame(minVol_Portfolio['x'], index=meanReturns.index, columns=['allocation'])\n",
    "    minVol_allocation.allocation = [round(i*100,0) for i in minVol_allocation.allocation]\n",
    "    # Efficient Frontier\n",
    "    efficientList = []\n",
    "    targetReturns = np.linspace(minVol_returns, maxSR_returns, 20)\n",
    "    for target in targetReturns:\n",
    "        efficientList.append(efficientOpt(meanReturns, covMatrix, target)['fun'])\n",
    "    return maxSR_returns, maxSR_std, maxSR_allocation, minVol_returns, minVol_std, minVol_allocation, efficientList,targetReturns"
   ]
  },
  {
   "attachments": {},
   "cell_type": "markdown",
   "id": "ad65e50a",
   "metadata": {},
   "source": [
    "# VISUALISING FRONTIER"
   ]
  },
  {
   "cell_type": "code",
   "execution_count": 97,
   "id": "e8aaeb3b",
   "metadata": {},
   "outputs": [],
   "source": [
    "def EF_graph(meanReturns, covMatrix, riskFreeRate=0, constraintSet=(0,1)):\n",
    "    \"\"\"Return a graph ploting the min vol, max sr and efficient frontier\"\"\"\n",
    "    maxSR_returns, maxSR_std, maxSR_allocation, minVol_returns, minVol_std, minVol_allocation, efficientList, targetReturns = calculatedResults(meanReturns, covMatrix, riskFreeRate, constraintSet)\n",
    "    #Max SR\n",
    "    MaxSharpeRatio = go.Scatter(\n",
    "        name='Maximium Sharpe Ratio',\n",
    "        mode='markers',\n",
    "        x=[maxSR_std],\n",
    "        y=[maxSR_returns],\n",
    "        marker=dict(color='red',size=14,line=dict(width=3, color='black'))\n",
    "    )\n",
    "    #Min Vol\n",
    "    MinVol = go.Scatter(\n",
    "        name='Mininium Volatility',\n",
    "        mode='markers',\n",
    "        x=[minVol_std],\n",
    "        y=[minVol_returns],\n",
    "        marker=dict(color='green',size=14,line=dict(width=3, color='black'))\n",
    "    )\n",
    "    #Efficient Frontier\n",
    "    EF_curve = go.Scatter(\n",
    "        name='Efficient Frontier',\n",
    "        mode='lines',\n",
    "        x=[round(ef_std*100, 2) for ef_std in efficientList],\n",
    "        y=[round(target*100, 2) for target in targetReturns],\n",
    "        line=dict(color='black', width=4, dash='dashdot')\n",
    "    )\n",
    "    data = [MaxSharpeRatio, MinVol, EF_curve]\n",
    "    layout = go.Layout(\n",
    "        title = 'Portfolio Optimisation with the Efficient Frontier',\n",
    "        yaxis = dict(title='Annualised Return (%)'),\n",
    "        xaxis = dict(title='Annualised Volatility (%)'),\n",
    "        showlegend = True,\n",
    "        legend = dict(\n",
    "            x = 0.75, y = 0, traceorder='normal',\n",
    "            bgcolor='#E2E2E2',\n",
    "            bordercolor='black',\n",
    "            borderwidth=2),\n",
    "        width=800,\n",
    "        height=600)\n",
    "    \n",
    "    fig = go.Figure(data=data, layout=layout)\n",
    "    return fig.show()"
   ]
  },
  {
   "cell_type": "code",
   "execution_count": 98,
   "id": "d23b673d",
   "metadata": {},
   "outputs": [
    {
     "data": {
      "application/vnd.plotly.v1+json": {
       "config": {
        "plotlyServerURL": "https://plot.ly"
       },
       "data": [
        {
         "marker": {
          "color": "red",
          "line": {
           "color": "black",
           "width": 3
          },
          "size": 14
         },
         "mode": "markers",
         "name": "Maximium Sharpe Ratio",
         "type": "scatter",
         "x": [
          40.82
         ],
         "y": [
          35.07
         ]
        },
        {
         "marker": {
          "color": "green",
          "line": {
           "color": "black",
           "width": 3
          },
          "size": 14
         },
         "mode": "markers",
         "name": "Mininium Volatility",
         "type": "scatter",
         "x": [
          31.09
         ],
         "y": [
          20.64
         ]
        },
        {
         "line": {
          "color": "black",
          "dash": "dashdot",
          "width": 4
         },
         "mode": "lines",
         "name": "Efficient Frontier",
         "type": "scatter",
         "x": [
          58.29,
          58.29,
          58.29,
          58.29,
          58.29,
          58.29,
          58.29,
          58.29,
          58.29,
          58.29,
          58.29,
          58.29,
          58.29,
          58.29,
          58.29,
          58.29,
          58.29,
          58.29,
          58.29,
          58.29
         ],
         "y": [
          2064,
          2139.95,
          2215.89,
          2291.84,
          2367.79,
          2443.74,
          2519.68,
          2595.63,
          2671.58,
          2747.53,
          2823.47,
          2899.42,
          2975.37,
          3051.32,
          3127.26,
          3203.21,
          3279.16,
          3355.11,
          3431.05,
          3507
         ]
        }
       ],
       "layout": {
        "height": 600,
        "legend": {
         "bgcolor": "#E2E2E2",
         "bordercolor": "black",
         "borderwidth": 2,
         "traceorder": "normal",
         "x": 0.75,
         "y": 0
        },
        "showlegend": true,
        "template": {
         "data": {
          "bar": [
           {
            "error_x": {
             "color": "#2a3f5f"
            },
            "error_y": {
             "color": "#2a3f5f"
            },
            "marker": {
             "line": {
              "color": "#E5ECF6",
              "width": 0.5
             },
             "pattern": {
              "fillmode": "overlay",
              "size": 10,
              "solidity": 0.2
             }
            },
            "type": "bar"
           }
          ],
          "barpolar": [
           {
            "marker": {
             "line": {
              "color": "#E5ECF6",
              "width": 0.5
             },
             "pattern": {
              "fillmode": "overlay",
              "size": 10,
              "solidity": 0.2
             }
            },
            "type": "barpolar"
           }
          ],
          "carpet": [
           {
            "aaxis": {
             "endlinecolor": "#2a3f5f",
             "gridcolor": "white",
             "linecolor": "white",
             "minorgridcolor": "white",
             "startlinecolor": "#2a3f5f"
            },
            "baxis": {
             "endlinecolor": "#2a3f5f",
             "gridcolor": "white",
             "linecolor": "white",
             "minorgridcolor": "white",
             "startlinecolor": "#2a3f5f"
            },
            "type": "carpet"
           }
          ],
          "choropleth": [
           {
            "colorbar": {
             "outlinewidth": 0,
             "ticks": ""
            },
            "type": "choropleth"
           }
          ],
          "contour": [
           {
            "colorbar": {
             "outlinewidth": 0,
             "ticks": ""
            },
            "colorscale": [
             [
              0,
              "#0d0887"
             ],
             [
              0.1111111111111111,
              "#46039f"
             ],
             [
              0.2222222222222222,
              "#7201a8"
             ],
             [
              0.3333333333333333,
              "#9c179e"
             ],
             [
              0.4444444444444444,
              "#bd3786"
             ],
             [
              0.5555555555555556,
              "#d8576b"
             ],
             [
              0.6666666666666666,
              "#ed7953"
             ],
             [
              0.7777777777777778,
              "#fb9f3a"
             ],
             [
              0.8888888888888888,
              "#fdca26"
             ],
             [
              1,
              "#f0f921"
             ]
            ],
            "type": "contour"
           }
          ],
          "contourcarpet": [
           {
            "colorbar": {
             "outlinewidth": 0,
             "ticks": ""
            },
            "type": "contourcarpet"
           }
          ],
          "heatmap": [
           {
            "colorbar": {
             "outlinewidth": 0,
             "ticks": ""
            },
            "colorscale": [
             [
              0,
              "#0d0887"
             ],
             [
              0.1111111111111111,
              "#46039f"
             ],
             [
              0.2222222222222222,
              "#7201a8"
             ],
             [
              0.3333333333333333,
              "#9c179e"
             ],
             [
              0.4444444444444444,
              "#bd3786"
             ],
             [
              0.5555555555555556,
              "#d8576b"
             ],
             [
              0.6666666666666666,
              "#ed7953"
             ],
             [
              0.7777777777777778,
              "#fb9f3a"
             ],
             [
              0.8888888888888888,
              "#fdca26"
             ],
             [
              1,
              "#f0f921"
             ]
            ],
            "type": "heatmap"
           }
          ],
          "heatmapgl": [
           {
            "colorbar": {
             "outlinewidth": 0,
             "ticks": ""
            },
            "colorscale": [
             [
              0,
              "#0d0887"
             ],
             [
              0.1111111111111111,
              "#46039f"
             ],
             [
              0.2222222222222222,
              "#7201a8"
             ],
             [
              0.3333333333333333,
              "#9c179e"
             ],
             [
              0.4444444444444444,
              "#bd3786"
             ],
             [
              0.5555555555555556,
              "#d8576b"
             ],
             [
              0.6666666666666666,
              "#ed7953"
             ],
             [
              0.7777777777777778,
              "#fb9f3a"
             ],
             [
              0.8888888888888888,
              "#fdca26"
             ],
             [
              1,
              "#f0f921"
             ]
            ],
            "type": "heatmapgl"
           }
          ],
          "histogram": [
           {
            "marker": {
             "pattern": {
              "fillmode": "overlay",
              "size": 10,
              "solidity": 0.2
             }
            },
            "type": "histogram"
           }
          ],
          "histogram2d": [
           {
            "colorbar": {
             "outlinewidth": 0,
             "ticks": ""
            },
            "colorscale": [
             [
              0,
              "#0d0887"
             ],
             [
              0.1111111111111111,
              "#46039f"
             ],
             [
              0.2222222222222222,
              "#7201a8"
             ],
             [
              0.3333333333333333,
              "#9c179e"
             ],
             [
              0.4444444444444444,
              "#bd3786"
             ],
             [
              0.5555555555555556,
              "#d8576b"
             ],
             [
              0.6666666666666666,
              "#ed7953"
             ],
             [
              0.7777777777777778,
              "#fb9f3a"
             ],
             [
              0.8888888888888888,
              "#fdca26"
             ],
             [
              1,
              "#f0f921"
             ]
            ],
            "type": "histogram2d"
           }
          ],
          "histogram2dcontour": [
           {
            "colorbar": {
             "outlinewidth": 0,
             "ticks": ""
            },
            "colorscale": [
             [
              0,
              "#0d0887"
             ],
             [
              0.1111111111111111,
              "#46039f"
             ],
             [
              0.2222222222222222,
              "#7201a8"
             ],
             [
              0.3333333333333333,
              "#9c179e"
             ],
             [
              0.4444444444444444,
              "#bd3786"
             ],
             [
              0.5555555555555556,
              "#d8576b"
             ],
             [
              0.6666666666666666,
              "#ed7953"
             ],
             [
              0.7777777777777778,
              "#fb9f3a"
             ],
             [
              0.8888888888888888,
              "#fdca26"
             ],
             [
              1,
              "#f0f921"
             ]
            ],
            "type": "histogram2dcontour"
           }
          ],
          "mesh3d": [
           {
            "colorbar": {
             "outlinewidth": 0,
             "ticks": ""
            },
            "type": "mesh3d"
           }
          ],
          "parcoords": [
           {
            "line": {
             "colorbar": {
              "outlinewidth": 0,
              "ticks": ""
             }
            },
            "type": "parcoords"
           }
          ],
          "pie": [
           {
            "automargin": true,
            "type": "pie"
           }
          ],
          "scatter": [
           {
            "fillpattern": {
             "fillmode": "overlay",
             "size": 10,
             "solidity": 0.2
            },
            "type": "scatter"
           }
          ],
          "scatter3d": [
           {
            "line": {
             "colorbar": {
              "outlinewidth": 0,
              "ticks": ""
             }
            },
            "marker": {
             "colorbar": {
              "outlinewidth": 0,
              "ticks": ""
             }
            },
            "type": "scatter3d"
           }
          ],
          "scattercarpet": [
           {
            "marker": {
             "colorbar": {
              "outlinewidth": 0,
              "ticks": ""
             }
            },
            "type": "scattercarpet"
           }
          ],
          "scattergeo": [
           {
            "marker": {
             "colorbar": {
              "outlinewidth": 0,
              "ticks": ""
             }
            },
            "type": "scattergeo"
           }
          ],
          "scattergl": [
           {
            "marker": {
             "colorbar": {
              "outlinewidth": 0,
              "ticks": ""
             }
            },
            "type": "scattergl"
           }
          ],
          "scattermapbox": [
           {
            "marker": {
             "colorbar": {
              "outlinewidth": 0,
              "ticks": ""
             }
            },
            "type": "scattermapbox"
           }
          ],
          "scatterpolar": [
           {
            "marker": {
             "colorbar": {
              "outlinewidth": 0,
              "ticks": ""
             }
            },
            "type": "scatterpolar"
           }
          ],
          "scatterpolargl": [
           {
            "marker": {
             "colorbar": {
              "outlinewidth": 0,
              "ticks": ""
             }
            },
            "type": "scatterpolargl"
           }
          ],
          "scatterternary": [
           {
            "marker": {
             "colorbar": {
              "outlinewidth": 0,
              "ticks": ""
             }
            },
            "type": "scatterternary"
           }
          ],
          "surface": [
           {
            "colorbar": {
             "outlinewidth": 0,
             "ticks": ""
            },
            "colorscale": [
             [
              0,
              "#0d0887"
             ],
             [
              0.1111111111111111,
              "#46039f"
             ],
             [
              0.2222222222222222,
              "#7201a8"
             ],
             [
              0.3333333333333333,
              "#9c179e"
             ],
             [
              0.4444444444444444,
              "#bd3786"
             ],
             [
              0.5555555555555556,
              "#d8576b"
             ],
             [
              0.6666666666666666,
              "#ed7953"
             ],
             [
              0.7777777777777778,
              "#fb9f3a"
             ],
             [
              0.8888888888888888,
              "#fdca26"
             ],
             [
              1,
              "#f0f921"
             ]
            ],
            "type": "surface"
           }
          ],
          "table": [
           {
            "cells": {
             "fill": {
              "color": "#EBF0F8"
             },
             "line": {
              "color": "white"
             }
            },
            "header": {
             "fill": {
              "color": "#C8D4E3"
             },
             "line": {
              "color": "white"
             }
            },
            "type": "table"
           }
          ]
         },
         "layout": {
          "annotationdefaults": {
           "arrowcolor": "#2a3f5f",
           "arrowhead": 0,
           "arrowwidth": 1
          },
          "autotypenumbers": "strict",
          "coloraxis": {
           "colorbar": {
            "outlinewidth": 0,
            "ticks": ""
           }
          },
          "colorscale": {
           "diverging": [
            [
             0,
             "#8e0152"
            ],
            [
             0.1,
             "#c51b7d"
            ],
            [
             0.2,
             "#de77ae"
            ],
            [
             0.3,
             "#f1b6da"
            ],
            [
             0.4,
             "#fde0ef"
            ],
            [
             0.5,
             "#f7f7f7"
            ],
            [
             0.6,
             "#e6f5d0"
            ],
            [
             0.7,
             "#b8e186"
            ],
            [
             0.8,
             "#7fbc41"
            ],
            [
             0.9,
             "#4d9221"
            ],
            [
             1,
             "#276419"
            ]
           ],
           "sequential": [
            [
             0,
             "#0d0887"
            ],
            [
             0.1111111111111111,
             "#46039f"
            ],
            [
             0.2222222222222222,
             "#7201a8"
            ],
            [
             0.3333333333333333,
             "#9c179e"
            ],
            [
             0.4444444444444444,
             "#bd3786"
            ],
            [
             0.5555555555555556,
             "#d8576b"
            ],
            [
             0.6666666666666666,
             "#ed7953"
            ],
            [
             0.7777777777777778,
             "#fb9f3a"
            ],
            [
             0.8888888888888888,
             "#fdca26"
            ],
            [
             1,
             "#f0f921"
            ]
           ],
           "sequentialminus": [
            [
             0,
             "#0d0887"
            ],
            [
             0.1111111111111111,
             "#46039f"
            ],
            [
             0.2222222222222222,
             "#7201a8"
            ],
            [
             0.3333333333333333,
             "#9c179e"
            ],
            [
             0.4444444444444444,
             "#bd3786"
            ],
            [
             0.5555555555555556,
             "#d8576b"
            ],
            [
             0.6666666666666666,
             "#ed7953"
            ],
            [
             0.7777777777777778,
             "#fb9f3a"
            ],
            [
             0.8888888888888888,
             "#fdca26"
            ],
            [
             1,
             "#f0f921"
            ]
           ]
          },
          "colorway": [
           "#636efa",
           "#EF553B",
           "#00cc96",
           "#ab63fa",
           "#FFA15A",
           "#19d3f3",
           "#FF6692",
           "#B6E880",
           "#FF97FF",
           "#FECB52"
          ],
          "font": {
           "color": "#2a3f5f"
          },
          "geo": {
           "bgcolor": "white",
           "lakecolor": "white",
           "landcolor": "#E5ECF6",
           "showlakes": true,
           "showland": true,
           "subunitcolor": "white"
          },
          "hoverlabel": {
           "align": "left"
          },
          "hovermode": "closest",
          "mapbox": {
           "style": "light"
          },
          "paper_bgcolor": "white",
          "plot_bgcolor": "#E5ECF6",
          "polar": {
           "angularaxis": {
            "gridcolor": "white",
            "linecolor": "white",
            "ticks": ""
           },
           "bgcolor": "#E5ECF6",
           "radialaxis": {
            "gridcolor": "white",
            "linecolor": "white",
            "ticks": ""
           }
          },
          "scene": {
           "xaxis": {
            "backgroundcolor": "#E5ECF6",
            "gridcolor": "white",
            "gridwidth": 2,
            "linecolor": "white",
            "showbackground": true,
            "ticks": "",
            "zerolinecolor": "white"
           },
           "yaxis": {
            "backgroundcolor": "#E5ECF6",
            "gridcolor": "white",
            "gridwidth": 2,
            "linecolor": "white",
            "showbackground": true,
            "ticks": "",
            "zerolinecolor": "white"
           },
           "zaxis": {
            "backgroundcolor": "#E5ECF6",
            "gridcolor": "white",
            "gridwidth": 2,
            "linecolor": "white",
            "showbackground": true,
            "ticks": "",
            "zerolinecolor": "white"
           }
          },
          "shapedefaults": {
           "line": {
            "color": "#2a3f5f"
           }
          },
          "ternary": {
           "aaxis": {
            "gridcolor": "white",
            "linecolor": "white",
            "ticks": ""
           },
           "baxis": {
            "gridcolor": "white",
            "linecolor": "white",
            "ticks": ""
           },
           "bgcolor": "#E5ECF6",
           "caxis": {
            "gridcolor": "white",
            "linecolor": "white",
            "ticks": ""
           }
          },
          "title": {
           "x": 0.05
          },
          "xaxis": {
           "automargin": true,
           "gridcolor": "white",
           "linecolor": "white",
           "ticks": "",
           "title": {
            "standoff": 15
           },
           "zerolinecolor": "white",
           "zerolinewidth": 2
          },
          "yaxis": {
           "automargin": true,
           "gridcolor": "white",
           "linecolor": "white",
           "ticks": "",
           "title": {
            "standoff": 15
           },
           "zerolinecolor": "white",
           "zerolinewidth": 2
          }
         }
        },
        "title": {
         "text": "Portfolio Optimisation with the Efficient Frontier"
        },
        "width": 800,
        "xaxis": {
         "title": {
          "text": "Annualised Volatility (%)"
         }
        },
        "yaxis": {
         "title": {
          "text": "Annualised Return (%)"
         }
        }
       }
      },
      "text/html": [
       "<div>                            <div id=\"cf8f8ba7-26c9-49e0-b588-d50f7c047223\" class=\"plotly-graph-div\" style=\"height:600px; width:800px;\"></div>            <script type=\"text/javascript\">                require([\"plotly\"], function(Plotly) {                    window.PLOTLYENV=window.PLOTLYENV || {};                                    if (document.getElementById(\"cf8f8ba7-26c9-49e0-b588-d50f7c047223\")) {                    Plotly.newPlot(                        \"cf8f8ba7-26c9-49e0-b588-d50f7c047223\",                        [{\"marker\":{\"color\":\"red\",\"line\":{\"color\":\"black\",\"width\":3},\"size\":14},\"mode\":\"markers\",\"name\":\"Maximium Sharpe Ratio\",\"x\":[40.82],\"y\":[35.07],\"type\":\"scatter\"},{\"marker\":{\"color\":\"green\",\"line\":{\"color\":\"black\",\"width\":3},\"size\":14},\"mode\":\"markers\",\"name\":\"Mininium Volatility\",\"x\":[31.09],\"y\":[20.64],\"type\":\"scatter\"},{\"line\":{\"color\":\"black\",\"dash\":\"dashdot\",\"width\":4},\"mode\":\"lines\",\"name\":\"Efficient Frontier\",\"x\":[58.29,58.29,58.29,58.29,58.29,58.29,58.29,58.29,58.29,58.29,58.29,58.29,58.29,58.29,58.29,58.29,58.29,58.29,58.29,58.29],\"y\":[2064.0,2139.95,2215.89,2291.84,2367.79,2443.74,2519.68,2595.63,2671.58,2747.53,2823.47,2899.42,2975.37,3051.32,3127.26,3203.21,3279.16,3355.11,3431.05,3507.0],\"type\":\"scatter\"}],                        {\"height\":600,\"legend\":{\"bgcolor\":\"#E2E2E2\",\"bordercolor\":\"black\",\"borderwidth\":2,\"traceorder\":\"normal\",\"x\":0.75,\"y\":0},\"showlegend\":true,\"title\":{\"text\":\"Portfolio Optimisation with the Efficient Frontier\"},\"width\":800,\"xaxis\":{\"title\":{\"text\":\"Annualised Volatility (%)\"}},\"yaxis\":{\"title\":{\"text\":\"Annualised Return (%)\"}},\"template\":{\"data\":{\"histogram2dcontour\":[{\"type\":\"histogram2dcontour\",\"colorbar\":{\"outlinewidth\":0,\"ticks\":\"\"},\"colorscale\":[[0.0,\"#0d0887\"],[0.1111111111111111,\"#46039f\"],[0.2222222222222222,\"#7201a8\"],[0.3333333333333333,\"#9c179e\"],[0.4444444444444444,\"#bd3786\"],[0.5555555555555556,\"#d8576b\"],[0.6666666666666666,\"#ed7953\"],[0.7777777777777778,\"#fb9f3a\"],[0.8888888888888888,\"#fdca26\"],[1.0,\"#f0f921\"]]}],\"choropleth\":[{\"type\":\"choropleth\",\"colorbar\":{\"outlinewidth\":0,\"ticks\":\"\"}}],\"histogram2d\":[{\"type\":\"histogram2d\",\"colorbar\":{\"outlinewidth\":0,\"ticks\":\"\"},\"colorscale\":[[0.0,\"#0d0887\"],[0.1111111111111111,\"#46039f\"],[0.2222222222222222,\"#7201a8\"],[0.3333333333333333,\"#9c179e\"],[0.4444444444444444,\"#bd3786\"],[0.5555555555555556,\"#d8576b\"],[0.6666666666666666,\"#ed7953\"],[0.7777777777777778,\"#fb9f3a\"],[0.8888888888888888,\"#fdca26\"],[1.0,\"#f0f921\"]]}],\"heatmap\":[{\"type\":\"heatmap\",\"colorbar\":{\"outlinewidth\":0,\"ticks\":\"\"},\"colorscale\":[[0.0,\"#0d0887\"],[0.1111111111111111,\"#46039f\"],[0.2222222222222222,\"#7201a8\"],[0.3333333333333333,\"#9c179e\"],[0.4444444444444444,\"#bd3786\"],[0.5555555555555556,\"#d8576b\"],[0.6666666666666666,\"#ed7953\"],[0.7777777777777778,\"#fb9f3a\"],[0.8888888888888888,\"#fdca26\"],[1.0,\"#f0f921\"]]}],\"heatmapgl\":[{\"type\":\"heatmapgl\",\"colorbar\":{\"outlinewidth\":0,\"ticks\":\"\"},\"colorscale\":[[0.0,\"#0d0887\"],[0.1111111111111111,\"#46039f\"],[0.2222222222222222,\"#7201a8\"],[0.3333333333333333,\"#9c179e\"],[0.4444444444444444,\"#bd3786\"],[0.5555555555555556,\"#d8576b\"],[0.6666666666666666,\"#ed7953\"],[0.7777777777777778,\"#fb9f3a\"],[0.8888888888888888,\"#fdca26\"],[1.0,\"#f0f921\"]]}],\"contourcarpet\":[{\"type\":\"contourcarpet\",\"colorbar\":{\"outlinewidth\":0,\"ticks\":\"\"}}],\"contour\":[{\"type\":\"contour\",\"colorbar\":{\"outlinewidth\":0,\"ticks\":\"\"},\"colorscale\":[[0.0,\"#0d0887\"],[0.1111111111111111,\"#46039f\"],[0.2222222222222222,\"#7201a8\"],[0.3333333333333333,\"#9c179e\"],[0.4444444444444444,\"#bd3786\"],[0.5555555555555556,\"#d8576b\"],[0.6666666666666666,\"#ed7953\"],[0.7777777777777778,\"#fb9f3a\"],[0.8888888888888888,\"#fdca26\"],[1.0,\"#f0f921\"]]}],\"surface\":[{\"type\":\"surface\",\"colorbar\":{\"outlinewidth\":0,\"ticks\":\"\"},\"colorscale\":[[0.0,\"#0d0887\"],[0.1111111111111111,\"#46039f\"],[0.2222222222222222,\"#7201a8\"],[0.3333333333333333,\"#9c179e\"],[0.4444444444444444,\"#bd3786\"],[0.5555555555555556,\"#d8576b\"],[0.6666666666666666,\"#ed7953\"],[0.7777777777777778,\"#fb9f3a\"],[0.8888888888888888,\"#fdca26\"],[1.0,\"#f0f921\"]]}],\"mesh3d\":[{\"type\":\"mesh3d\",\"colorbar\":{\"outlinewidth\":0,\"ticks\":\"\"}}],\"scatter\":[{\"fillpattern\":{\"fillmode\":\"overlay\",\"size\":10,\"solidity\":0.2},\"type\":\"scatter\"}],\"parcoords\":[{\"type\":\"parcoords\",\"line\":{\"colorbar\":{\"outlinewidth\":0,\"ticks\":\"\"}}}],\"scatterpolargl\":[{\"type\":\"scatterpolargl\",\"marker\":{\"colorbar\":{\"outlinewidth\":0,\"ticks\":\"\"}}}],\"bar\":[{\"error_x\":{\"color\":\"#2a3f5f\"},\"error_y\":{\"color\":\"#2a3f5f\"},\"marker\":{\"line\":{\"color\":\"#E5ECF6\",\"width\":0.5},\"pattern\":{\"fillmode\":\"overlay\",\"size\":10,\"solidity\":0.2}},\"type\":\"bar\"}],\"scattergeo\":[{\"type\":\"scattergeo\",\"marker\":{\"colorbar\":{\"outlinewidth\":0,\"ticks\":\"\"}}}],\"scatterpolar\":[{\"type\":\"scatterpolar\",\"marker\":{\"colorbar\":{\"outlinewidth\":0,\"ticks\":\"\"}}}],\"histogram\":[{\"marker\":{\"pattern\":{\"fillmode\":\"overlay\",\"size\":10,\"solidity\":0.2}},\"type\":\"histogram\"}],\"scattergl\":[{\"type\":\"scattergl\",\"marker\":{\"colorbar\":{\"outlinewidth\":0,\"ticks\":\"\"}}}],\"scatter3d\":[{\"type\":\"scatter3d\",\"line\":{\"colorbar\":{\"outlinewidth\":0,\"ticks\":\"\"}},\"marker\":{\"colorbar\":{\"outlinewidth\":0,\"ticks\":\"\"}}}],\"scattermapbox\":[{\"type\":\"scattermapbox\",\"marker\":{\"colorbar\":{\"outlinewidth\":0,\"ticks\":\"\"}}}],\"scatterternary\":[{\"type\":\"scatterternary\",\"marker\":{\"colorbar\":{\"outlinewidth\":0,\"ticks\":\"\"}}}],\"scattercarpet\":[{\"type\":\"scattercarpet\",\"marker\":{\"colorbar\":{\"outlinewidth\":0,\"ticks\":\"\"}}}],\"carpet\":[{\"aaxis\":{\"endlinecolor\":\"#2a3f5f\",\"gridcolor\":\"white\",\"linecolor\":\"white\",\"minorgridcolor\":\"white\",\"startlinecolor\":\"#2a3f5f\"},\"baxis\":{\"endlinecolor\":\"#2a3f5f\",\"gridcolor\":\"white\",\"linecolor\":\"white\",\"minorgridcolor\":\"white\",\"startlinecolor\":\"#2a3f5f\"},\"type\":\"carpet\"}],\"table\":[{\"cells\":{\"fill\":{\"color\":\"#EBF0F8\"},\"line\":{\"color\":\"white\"}},\"header\":{\"fill\":{\"color\":\"#C8D4E3\"},\"line\":{\"color\":\"white\"}},\"type\":\"table\"}],\"barpolar\":[{\"marker\":{\"line\":{\"color\":\"#E5ECF6\",\"width\":0.5},\"pattern\":{\"fillmode\":\"overlay\",\"size\":10,\"solidity\":0.2}},\"type\":\"barpolar\"}],\"pie\":[{\"automargin\":true,\"type\":\"pie\"}]},\"layout\":{\"autotypenumbers\":\"strict\",\"colorway\":[\"#636efa\",\"#EF553B\",\"#00cc96\",\"#ab63fa\",\"#FFA15A\",\"#19d3f3\",\"#FF6692\",\"#B6E880\",\"#FF97FF\",\"#FECB52\"],\"font\":{\"color\":\"#2a3f5f\"},\"hovermode\":\"closest\",\"hoverlabel\":{\"align\":\"left\"},\"paper_bgcolor\":\"white\",\"plot_bgcolor\":\"#E5ECF6\",\"polar\":{\"bgcolor\":\"#E5ECF6\",\"angularaxis\":{\"gridcolor\":\"white\",\"linecolor\":\"white\",\"ticks\":\"\"},\"radialaxis\":{\"gridcolor\":\"white\",\"linecolor\":\"white\",\"ticks\":\"\"}},\"ternary\":{\"bgcolor\":\"#E5ECF6\",\"aaxis\":{\"gridcolor\":\"white\",\"linecolor\":\"white\",\"ticks\":\"\"},\"baxis\":{\"gridcolor\":\"white\",\"linecolor\":\"white\",\"ticks\":\"\"},\"caxis\":{\"gridcolor\":\"white\",\"linecolor\":\"white\",\"ticks\":\"\"}},\"coloraxis\":{\"colorbar\":{\"outlinewidth\":0,\"ticks\":\"\"}},\"colorscale\":{\"sequential\":[[0.0,\"#0d0887\"],[0.1111111111111111,\"#46039f\"],[0.2222222222222222,\"#7201a8\"],[0.3333333333333333,\"#9c179e\"],[0.4444444444444444,\"#bd3786\"],[0.5555555555555556,\"#d8576b\"],[0.6666666666666666,\"#ed7953\"],[0.7777777777777778,\"#fb9f3a\"],[0.8888888888888888,\"#fdca26\"],[1.0,\"#f0f921\"]],\"sequentialminus\":[[0.0,\"#0d0887\"],[0.1111111111111111,\"#46039f\"],[0.2222222222222222,\"#7201a8\"],[0.3333333333333333,\"#9c179e\"],[0.4444444444444444,\"#bd3786\"],[0.5555555555555556,\"#d8576b\"],[0.6666666666666666,\"#ed7953\"],[0.7777777777777778,\"#fb9f3a\"],[0.8888888888888888,\"#fdca26\"],[1.0,\"#f0f921\"]],\"diverging\":[[0,\"#8e0152\"],[0.1,\"#c51b7d\"],[0.2,\"#de77ae\"],[0.3,\"#f1b6da\"],[0.4,\"#fde0ef\"],[0.5,\"#f7f7f7\"],[0.6,\"#e6f5d0\"],[0.7,\"#b8e186\"],[0.8,\"#7fbc41\"],[0.9,\"#4d9221\"],[1,\"#276419\"]]},\"xaxis\":{\"gridcolor\":\"white\",\"linecolor\":\"white\",\"ticks\":\"\",\"title\":{\"standoff\":15},\"zerolinecolor\":\"white\",\"automargin\":true,\"zerolinewidth\":2},\"yaxis\":{\"gridcolor\":\"white\",\"linecolor\":\"white\",\"ticks\":\"\",\"title\":{\"standoff\":15},\"zerolinecolor\":\"white\",\"automargin\":true,\"zerolinewidth\":2},\"scene\":{\"xaxis\":{\"backgroundcolor\":\"#E5ECF6\",\"gridcolor\":\"white\",\"linecolor\":\"white\",\"showbackground\":true,\"ticks\":\"\",\"zerolinecolor\":\"white\",\"gridwidth\":2},\"yaxis\":{\"backgroundcolor\":\"#E5ECF6\",\"gridcolor\":\"white\",\"linecolor\":\"white\",\"showbackground\":true,\"ticks\":\"\",\"zerolinecolor\":\"white\",\"gridwidth\":2},\"zaxis\":{\"backgroundcolor\":\"#E5ECF6\",\"gridcolor\":\"white\",\"linecolor\":\"white\",\"showbackground\":true,\"ticks\":\"\",\"zerolinecolor\":\"white\",\"gridwidth\":2}},\"shapedefaults\":{\"line\":{\"color\":\"#2a3f5f\"}},\"annotationdefaults\":{\"arrowcolor\":\"#2a3f5f\",\"arrowhead\":0,\"arrowwidth\":1},\"geo\":{\"bgcolor\":\"white\",\"landcolor\":\"#E5ECF6\",\"subunitcolor\":\"white\",\"showland\":true,\"showlakes\":true,\"lakecolor\":\"white\"},\"title\":{\"x\":0.05},\"mapbox\":{\"style\":\"light\"}}}},                        {\"responsive\": true}                    ).then(function(){\n",
       "                            \n",
       "var gd = document.getElementById('cf8f8ba7-26c9-49e0-b588-d50f7c047223');\n",
       "var x = new MutationObserver(function (mutations, observer) {{\n",
       "        var display = window.getComputedStyle(gd).display;\n",
       "        if (!display || display === 'none') {{\n",
       "            console.log([gd, 'removed!']);\n",
       "            Plotly.purge(gd);\n",
       "            observer.disconnect();\n",
       "        }}\n",
       "}});\n",
       "\n",
       "// Listen for the removal of the full notebook cells\n",
       "var notebookContainer = gd.closest('#notebook-container');\n",
       "if (notebookContainer) {{\n",
       "    x.observe(notebookContainer, {childList: true});\n",
       "}}\n",
       "\n",
       "// Listen for the clearing of the current output cell\n",
       "var outputEl = gd.closest('.output');\n",
       "if (outputEl) {{\n",
       "    x.observe(outputEl, {childList: true});\n",
       "}}\n",
       "\n",
       "                        })                };                });            </script>        </div>"
      ]
     },
     "metadata": {},
     "output_type": "display_data"
    }
   ],
   "source": [
    "EF_graph(mean_returns, cov_matrix)"
   ]
  },
  {
   "cell_type": "code",
   "execution_count": null,
   "id": "235d70b0",
   "metadata": {},
   "outputs": [],
   "source": [
    "#single cell\n",
    "\n",
    "\n",
    "\n",
    "import numpy as np\n",
    "import pandas as pd\n",
    "from pandas_datareader import data as pdr\n",
    "import datetime as dt\n",
    "import yfinance as yfin\n",
    "import scipy.optimize as sc\n",
    "import plotly.graph_objects as go\n",
    "import matplotlib.pyplot as plt\n",
    "yfin.pdr_override()\n",
    "\n",
    "def getData(stocks,start,end):\n",
    "    stockData = pdr.get_data_yahoo(stocks, start = start, end = end)\n",
    "    stockData = stockData[\"Close\"]\n",
    "    \n",
    "    return stockData.pct_change()\n",
    "\n",
    "stock_list = (\"AAPL\",\"AMZN\",\"GOOGL\",\"META\") ## INPUT DEESIRED STOCKS IN PORTFOLIO\n",
    "endDate = dt.datetime.now() ## GET REQUIRED DATE RANGE\n",
    "startDate = endDate - dt.timedelta(days = 365)\n",
    "\n",
    "pctChange = getData(stock_list,startDate, endDate)\n",
    "\n",
    "## MEAN PERCENT CHANGE = MEAN OF RETURNS\n",
    "mean_returns = pctChange.mean()\n",
    "\n",
    "## COVARIANCE OF PERCENT CHANGE ACROSS STOCKS IN PORTFOLIO\n",
    "cov_matrix = pctChange.cov()\n",
    "\n",
    "def portfolioPerformance(weights, meanReturns, covMatrix):\n",
    "    returns = np.sum(meanReturns*weights)*252\n",
    "    std = np.sqrt(\n",
    "            np.dot(weights.T,np.dot(covMatrix, weights))\n",
    "           )*np.sqrt(252)\n",
    "    return returns, std\n",
    "\n",
    "\n",
    "\n",
    "def random_portfolios(num_portfolios, mean_returns, cov_matrix, risk_free_rate):\n",
    "    results = np.zeros((3,num_portfolios))\n",
    "    weights_record = []\n",
    "    for i in range(num_portfolios):\n",
    "        weights = np.random.random(len(stock_list)) \n",
    "        weights /= np.sum(weights)\n",
    "        weights_record.append(weights)\n",
    "        portfolio_std_dev, portfolio_return = portfolioPerformance(weights, mean_returns, cov_matrix)\n",
    "        results[0,i] = portfolio_std_dev\n",
    "        results[1,i] = portfolio_return\n",
    "        results[2,i] = (portfolio_return - risk_free_rate) / portfolio_std_dev\n",
    "    return results, weights_record\n",
    "\n",
    "def display_simulated_ef_with_random(mean_returns, cov_matrix, num_portfolios, risk_free_rate):\n",
    "    results, weights = random_portfolios(25000,mean_returns, cov_matrix, 0.0178)\n",
    "    \n",
    "    max_sharpe_idx = np.argmax(results[2])\n",
    "    sdp, rp = results[0,max_sharpe_idx], results[1,max_sharpe_idx]\n",
    "    max_sharpe_allocation = pd.DataFrame(weights[max_sharpe_idx],index= pctChange.columns,columns=['allocation'])\n",
    "    max_sharpe_allocation.allocation = [round(i*100,2)for i in max_sharpe_allocation.allocation]\n",
    "    max_sharpe_allocation = max_sharpe_allocation.T\n",
    "    \n",
    "    min_vol_idx = np.argmin(results[0])\n",
    "    sdp_min, rp_min = results[0,min_vol_idx], results[1,min_vol_idx]\n",
    "    min_vol_allocation = pd.DataFrame(weights[min_vol_idx],index= pctChange.columns,columns=['allocation'])\n",
    "    min_vol_allocation.allocation = [round(i*100,2)for i in min_vol_allocation.allocation]\n",
    "    min_vol_allocation = min_vol_allocation.T\n",
    "    \n",
    "    print(\"-\"*80)\n",
    "    print(\"Maximum Sharpe Ratio Portfolio Allocation\\n\")\n",
    "    print(\"Annualised Return:\", round(rp,2))\n",
    "    print(\"Annualised Volatility:\", round(sdp,2))\n",
    "    print(\"\\n\")\n",
    "    print(max_sharpe_allocation)\n",
    "    print(\"-\"*80)\n",
    "    print(\"Minimum Volatility Portfolio Allocation\\n\")\n",
    "    print(\"Annualised Return:\", round(rp_min,2))\n",
    "    print(\"Annualised Volatility:\", round(sdp_min,2))\n",
    "    print(\"\\n\")\n",
    "    print(min_vol_allocation)\n",
    "    \n",
    "    plt.figure(figsize=(10, 7))\n",
    "    plt.scatter(results[0,:],results[1,:],c=results[2,:],cmap='YlGnBu', marker='o', s=10, alpha=0.3)\n",
    "    plt.colorbar()\n",
    "    plt.scatter(sdp,rp,marker='*',color='r',s=500, label='Maximum Sharpe ratio')\n",
    "    plt.scatter(sdp_min,rp_min,marker='*',color='g',s=500, label='Minimum volatility')\n",
    "    plt.title('Simulated Portfolio Optimization based on Efficient Frontier')\n",
    "    plt.xlabel('annualised volatility')\n",
    "    plt.ylabel('annualised returns')\n",
    "    plt.legend(labelspacing=0.8)\n",
    "    #show the above plot in streamlit\n",
    "\n",
    "\n",
    "st.write(display_simulated_ef_with_random(mean_returns, cov_matrix, 25000, 0.0178))\n",
    "\n",
    "\n",
    "\n",
    "\n",
    "def negativeSR(weights, meanReturns, covMatrix, riskFreeRate = 0):\n",
    "    pReturns, pStd = portfolioPerformance(weights, meanReturns, covMatrix)\n",
    "    return - (pReturns - riskFreeRate)/pStd\n",
    "def maxSR(meanReturns, covMatrix, riskFreeRate = 0, constraintSet=(0.0,1.0)):\n",
    "    \"Minimize the negative SR, by altering the weights of the portfolio\"\n",
    "    numAssets = len(meanReturns)\n",
    "    args = (meanReturns, covMatrix, riskFreeRate)\n",
    "    constraints = ({'type': 'eq', 'fun': lambda x: np.sum(x) - 1})\n",
    "    bound = constraintSet\n",
    "    bounds = tuple(bound for asset in range(numAssets))\n",
    "    result = sc.minimize(negativeSR, numAssets*[1./numAssets], args=args,\n",
    "                        method='SLSQP', bounds=bounds, constraints=constraints)\n",
    "    return result\n",
    "\n",
    "\n",
    "\n",
    "def portfolioVariance(weights, meanReturns, covMatrix):\n",
    "    return portfolioPerformance(weights, meanReturns, covMatrix)[1]\n",
    "def minimizeVariance(meanReturns, covMatrix, constraintSet=(0,1)):\n",
    "    \"\"\"Minimize the portfolio variance by altering the \n",
    "     weights/allocation of assets in the portfolio\"\"\"\n",
    "    numAssets = len(meanReturns)\n",
    "    args = (meanReturns, covMatrix)\n",
    "    constraints = ({'type': 'eq', 'fun': lambda x: np.sum(x) - 1})\n",
    "    bound = constraintSet\n",
    "    bounds = tuple(bound for asset in range(numAssets))\n",
    "    result = sc.minimize(portfolioVariance, numAssets*[1./numAssets], args=args,\n",
    "                        method='SLSQP', bounds=bounds, constraints=constraints)\n",
    "    return result\n",
    "\n",
    "\n",
    "def portfolioReturn(weights, meanReturns, covMatrix):\n",
    "        return portfolioPerformance(weights, meanReturns, covMatrix)[0]\n",
    "def efficientOpt(meanReturns, covMatrix, returnTarget, constraintSet=(0,1)):\n",
    "    \"\"\"For each returnTarget, we want to optimise the portfolio for min variance\"\"\"\n",
    "    numAssets = len(meanReturns)\n",
    "    args = (meanReturns, covMatrix)\n",
    "    constraints = ({'type':'eq', 'fun': lambda x: portfolioReturn(x, meanReturns, covMatrix) - returnTarget},\n",
    "                    {'type': 'eq', 'fun': lambda x: np.sum(x) - 1})\n",
    "    bound = constraintSet\n",
    "    bounds = tuple(bound for asset in range(numAssets))\n",
    "    effOpt = sc.minimize(portfolioVariance, numAssets*[1./numAssets], args=args, method = 'SLSQP', bounds=bounds, constraints=constraints)\n",
    "    return effOpt\n",
    "\n",
    "\n",
    "def calculatedResults(meanReturns, covMatrix, riskFreeRate=0, constraintSet=(0,1)):\n",
    "    \"\"\"Read in mean, cov matrix, and other financial information\n",
    "        Output, Max SR , Min Volatility, efficient frontier \"\"\"\n",
    "    # Max Sharpe Ratio Portfolio\n",
    "    maxSR_Portfolio = maxSR(meanReturns, covMatrix)\n",
    "    maxSR_returns, maxSR_std = portfolioPerformance(maxSR_Portfolio['x'], meanReturns, covMatrix)\n",
    "    maxSR_returns, maxSR_std = round(maxSR_returns*100,2), round(maxSR_std*100,2)\n",
    "    maxSR_allocation = pd.DataFrame(maxSR_Portfolio['x'], index=meanReturns.index, columns=['allocation'])\n",
    "    maxSR_allocation.allocation = [round(i*100,0) for i in maxSR_allocation.allocation]\n",
    "    \n",
    "    # Min Volatility Portfolio\n",
    "    minVol_Portfolio = minimizeVariance(meanReturns, covMatrix)\n",
    "    minVol_returns, minVol_std = portfolioPerformance(minVol_Portfolio['x'], meanReturns, covMatrix)\n",
    "    minVol_returns, minVol_std = round(minVol_returns*100,2), round(minVol_std*100,2)\n",
    "    minVol_allocation = pd.DataFrame(minVol_Portfolio['x'], index=meanReturns.index, columns=['allocation'])\n",
    "    minVol_allocation.allocation = [round(i*100,0) for i in minVol_allocation.allocation]\n",
    "    # Efficient Frontier\n",
    "    efficientList = []\n",
    "    targetReturns = np.linspace(minVol_returns, maxSR_returns, 20)\n",
    "    for target in targetReturns:\n",
    "        efficientList.append(efficientOpt(meanReturns, covMatrix, target)['fun'])\n",
    "    return maxSR_returns, maxSR_std, maxSR_allocation, minVol_returns, minVol_std, minVol_allocation, efficientList,targetReturns\n",
    "\n",
    "def EF_graph(meanReturns, covMatrix, riskFreeRate=0, constraintSet=(0,1)):\n",
    "    \"\"\"Return a graph ploting the min vol, max sr and efficient frontier\"\"\"\n",
    "    maxSR_returns, maxSR_std, maxSR_allocation, minVol_returns, minVol_std, minVol_allocation, efficientList, targetReturns = calculatedResults(meanReturns, covMatrix, riskFreeRate, constraintSet)\n",
    "    #Max SR\n",
    "    MaxSharpeRatio = go.Scatter(\n",
    "        name='Maximium Sharpe Ratio',\n",
    "        mode='markers',\n",
    "        x=[maxSR_std],\n",
    "        y=[maxSR_returns],\n",
    "        marker=dict(color='red',size=14,line=dict(width=3, color='black'))\n",
    "    )\n",
    "    #Min Vol\n",
    "    MinVol = go.Scatter(\n",
    "        name='Mininium Volatility',\n",
    "        mode='markers',\n",
    "        x=[minVol_std],\n",
    "        y=[minVol_returns],\n",
    "        marker=dict(color='green',size=14,line=dict(width=3, color='black'))\n",
    "    )\n",
    "    #Efficient Frontier\n",
    "    EF_curve = go.Scatter(\n",
    "        name='Efficient Frontier',\n",
    "        mode='lines',\n",
    "        x=[round(ef_std*100, 2) for ef_std in efficientList],\n",
    "        y=[round(target*100, 2) for target in targetReturns],\n",
    "        line=dict(color='black', width=4, dash='dashdot')\n",
    "    )\n",
    "    data = [MaxSharpeRatio, MinVol, EF_curve]\n",
    "    layout = go.Layout(\n",
    "        title = 'Portfolio Optimisation with the Efficient Frontier',\n",
    "        yaxis = dict(title='Annualised Return (%)'),\n",
    "        xaxis = dict(title='Annualised Volatility (%)'),\n",
    "        showlegend = True,\n",
    "        legend = dict(\n",
    "            x = 0.75, y = 0, traceorder='normal',\n",
    "            bgcolor='#E2E2E2',\n",
    "            bordercolor='black',\n",
    "            borderwidth=2),\n",
    "        width=800,\n",
    "        height=600)\n",
    "    \n",
    "    fig = go.Figure(data=data, layout=layout)\n",
    "    return fig.show()\n",
    "\n",
    "\n",
    "# show in streamlit\n",
    "EF_graph(mean_returns, cov_matrix)"
   ]
  }
 ],
 "metadata": {
  "kernelspec": {
   "display_name": "Python 3 (ipykernel)",
   "language": "python",
   "name": "python3"
  },
  "language_info": {
   "codemirror_mode": {
    "name": "ipython",
    "version": 3
   },
   "file_extension": ".py",
   "mimetype": "text/x-python",
   "name": "python",
   "nbconvert_exporter": "python",
   "pygments_lexer": "ipython3",
   "version": "3.9.13"
  }
 },
 "nbformat": 4,
 "nbformat_minor": 5
}
